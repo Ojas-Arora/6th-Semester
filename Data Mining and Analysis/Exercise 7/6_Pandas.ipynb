{
  "cells": [
    {
      "cell_type": "markdown",
      "metadata": {
        "id": "JxXWChZjTAfj"
      },
      "source": [
        "## This Notebook is used to understand Pandas module\n",
        "### This is Part 1 of the Pandas Notebook\n",
        "Dr. Naveen Aggarwal\n",
        "\n",
        "#### Panel + Data = Pandas\n",
        "<li> It provides well-defined data structures and their functions.<BR>\n",
        "<li> It translates complex operations by using simple commands.<BR>\n",
        "<li> Easy to group, filtering, concatenating data, Well, organized way of doing time-series functionality.<BR>\n",
        "<li> Sorting, Aggregations, Indexing and re-indexing, and Iterations.<BR>\n",
        "<li> Reshape the data and its structure,<BR>\n",
        "<li> Quick slice, and dice the data based on our necessity.<BR>\n",
        "<li> Data manipulation capabilities are very similar to SQL.<BR>\n",
        "<li> Handling data for various aspects like missing data, cleaning, and manipulating data is with a simple line of code.<BR>\n",
        "   \n",
        "Since it has very powerful it can handle Tabular data, Ordered and Unordered time series data, and fit for Un-labelled data."
      ]
    },
    {
      "cell_type": "code",
      "execution_count": null,
      "metadata": {
        "id": "EdFRspwuTAfn"
      },
      "outputs": [],
      "source": [
        "import numpy as np\n",
        "import pandas as pd"
      ]
    },
    {
      "cell_type": "markdown",
      "metadata": {
        "id": "njFP9D1fTAfp"
      },
      "source": [
        "### Creating Structured Array using np array"
      ]
    },
    {
      "cell_type": "code",
      "execution_count": null,
      "metadata": {
        "colab": {
          "base_uri": "https://localhost:8080/"
        },
        "id": "NmmN70mCTAfq",
        "outputId": "6d55196f-f01e-40e0-ee20-5319b8d62cd0"
      },
      "outputs": [
        {
          "output_type": "stream",
          "name": "stdout",
          "text": [
            "[(1, 1.) (1, 1.) (1, 1.)]\n",
            "[1 1 1]\n",
            "[1. 1. 1.]\n"
          ]
        }
      ],
      "source": [
        "# A structured array\n",
        "# Structured arrays allow users to manipulate the data by named fields:\n",
        "#in the example below, a structured array of three tuples is created.\n",
        "#The first element of each tuple will be called ‘first’ and will be of type int,\n",
        "#while the second element will be named ‘second’ and will be a float.\n",
        "my_array = np.ones(3, dtype=([('first', int), ('second', float)]))\n",
        "# Print the structured array\n",
        "print(my_array)\n",
        "print(my_array['first'])\n",
        "print(my_array['second'])"
      ]
    },
    {
      "cell_type": "code",
      "execution_count": null,
      "metadata": {
        "colab": {
          "base_uri": "https://localhost:8080/"
        },
        "id": "MgU7Xi9GTAfs",
        "outputId": "8a9eefc9-0421-4406-a592-bbc416cc1e9e"
      },
      "outputs": [
        {
          "output_type": "stream",
          "name": "stdout",
          "text": [
            "[(1, 1.) (1, 1.) (1, 1.)]\n",
            "1\n",
            "[1. 1. 1.]\n"
          ]
        }
      ],
      "source": [
        "# A record array\n",
        "my_array2 = my_array.view(np.recarray)\n",
        "# Print the record array\n",
        "print(my_array2)\n",
        "print(my_array2.first[0])\n",
        "print(my_array2.second)"
      ]
    },
    {
      "cell_type": "markdown",
      "metadata": {
        "id": "HmlI9StVTAft"
      },
      "source": [
        "#### Series and DataFrame\n",
        "“Series” and “DataFrame” are the primary “Data Structures” components of pandas. Series is a kind of dictionary and collection of series, if you merging the series, we could construct the dataframe. Data Frame is a structured dataset, and you can play with that.\n",
        "\n",
        "##### Series\n",
        "One Dimensional Array with Fixed Length.\n",
        "##### DataFrame\n",
        "<li>Two-Dimensional Array\n",
        "<li>Fixed Length\n",
        "<li>Rectangular table of data (Column and Rows)"
      ]
    },
    {
      "cell_type": "markdown",
      "metadata": {
        "id": "BoUJb5lzTAfu"
      },
      "source": [
        "### Creating a Series by passing a list of values, letting pandas create a default integer index"
      ]
    },
    {
      "cell_type": "code",
      "execution_count": null,
      "metadata": {
        "colab": {
          "base_uri": "https://localhost:8080/"
        },
        "id": "r_56ZSX0TAfv",
        "outputId": "4aaa3ae5-48e4-4d50-b51e-b0d093535f0d"
      },
      "outputs": [
        {
          "output_type": "stream",
          "name": "stdout",
          "text": [
            "0    1.0\n",
            "1    3.0\n",
            "2    5.0\n",
            "3    NaN\n",
            "4    6.0\n",
            "5    8.0\n",
            "dtype: float64\n",
            "DatetimeIndex(['2013-01-01', '2013-01-02', '2013-01-03', '2013-01-04',\n",
            "               '2013-01-05', '2013-01-06'],\n",
            "              dtype='datetime64[ns]', freq='D')\n",
            "Index([2013, 2013, 2013, 2013, 2013, 2013], dtype='int32') Index([1, 1, 1, 1, 1, 1], dtype='int32') Index([1, 2, 3, 4, 5, 6], dtype='int32')\n"
          ]
        }
      ],
      "source": [
        "s = pd.Series([1,3,5,np.nan,6,8])\n",
        "print(s)\n",
        "dates = pd.date_range('20130101',periods=6)\n",
        "print(dates)\n",
        "print (dates.year, dates.month, dates.day)"
      ]
    },
    {
      "cell_type": "markdown",
      "metadata": {
        "id": "bT-s4KJGTAfx"
      },
      "source": [
        "### Creating Dataframe using dictionary"
      ]
    },
    {
      "cell_type": "code",
      "execution_count": null,
      "metadata": {
        "colab": {
          "base_uri": "https://localhost:8080/",
          "height": 238
        },
        "id": "O3KSTez5TAfy",
        "outputId": "bbcc10db-fbd2-4e9c-9250-fb4d7fcaa7ea"
      },
      "outputs": [
        {
          "output_type": "execute_result",
          "data": {
            "text/plain": [
              "                   A         B         C         D\n",
              "2013-01-01  0.605608  2.239424 -1.972249  1.202611\n",
              "2013-01-02 -0.950039  1.268141  1.562293 -1.274266\n",
              "2013-01-03  2.022518  0.993316  0.427421 -2.267654\n",
              "2013-01-04 -0.747721 -2.141370 -0.548205  1.223524\n",
              "2013-01-05  0.424063 -1.236719  0.954442 -0.171687\n",
              "2013-01-06  1.103227  0.900754  2.831636  0.272540"
            ],
            "text/html": [
              "\n",
              "  <div id=\"df-54ae5893-8415-435c-bbf9-12b8fa3d27f7\" class=\"colab-df-container\">\n",
              "    <div>\n",
              "<style scoped>\n",
              "    .dataframe tbody tr th:only-of-type {\n",
              "        vertical-align: middle;\n",
              "    }\n",
              "\n",
              "    .dataframe tbody tr th {\n",
              "        vertical-align: top;\n",
              "    }\n",
              "\n",
              "    .dataframe thead th {\n",
              "        text-align: right;\n",
              "    }\n",
              "</style>\n",
              "<table border=\"1\" class=\"dataframe\">\n",
              "  <thead>\n",
              "    <tr style=\"text-align: right;\">\n",
              "      <th></th>\n",
              "      <th>A</th>\n",
              "      <th>B</th>\n",
              "      <th>C</th>\n",
              "      <th>D</th>\n",
              "    </tr>\n",
              "  </thead>\n",
              "  <tbody>\n",
              "    <tr>\n",
              "      <th>2013-01-01</th>\n",
              "      <td>0.605608</td>\n",
              "      <td>2.239424</td>\n",
              "      <td>-1.972249</td>\n",
              "      <td>1.202611</td>\n",
              "    </tr>\n",
              "    <tr>\n",
              "      <th>2013-01-02</th>\n",
              "      <td>-0.950039</td>\n",
              "      <td>1.268141</td>\n",
              "      <td>1.562293</td>\n",
              "      <td>-1.274266</td>\n",
              "    </tr>\n",
              "    <tr>\n",
              "      <th>2013-01-03</th>\n",
              "      <td>2.022518</td>\n",
              "      <td>0.993316</td>\n",
              "      <td>0.427421</td>\n",
              "      <td>-2.267654</td>\n",
              "    </tr>\n",
              "    <tr>\n",
              "      <th>2013-01-04</th>\n",
              "      <td>-0.747721</td>\n",
              "      <td>-2.141370</td>\n",
              "      <td>-0.548205</td>\n",
              "      <td>1.223524</td>\n",
              "    </tr>\n",
              "    <tr>\n",
              "      <th>2013-01-05</th>\n",
              "      <td>0.424063</td>\n",
              "      <td>-1.236719</td>\n",
              "      <td>0.954442</td>\n",
              "      <td>-0.171687</td>\n",
              "    </tr>\n",
              "    <tr>\n",
              "      <th>2013-01-06</th>\n",
              "      <td>1.103227</td>\n",
              "      <td>0.900754</td>\n",
              "      <td>2.831636</td>\n",
              "      <td>0.272540</td>\n",
              "    </tr>\n",
              "  </tbody>\n",
              "</table>\n",
              "</div>\n",
              "    <div class=\"colab-df-buttons\">\n",
              "\n",
              "  <div class=\"colab-df-container\">\n",
              "    <button class=\"colab-df-convert\" onclick=\"convertToInteractive('df-54ae5893-8415-435c-bbf9-12b8fa3d27f7')\"\n",
              "            title=\"Convert this dataframe to an interactive table.\"\n",
              "            style=\"display:none;\">\n",
              "\n",
              "  <svg xmlns=\"http://www.w3.org/2000/svg\" height=\"24px\" viewBox=\"0 -960 960 960\">\n",
              "    <path d=\"M120-120v-720h720v720H120Zm60-500h600v-160H180v160Zm220 220h160v-160H400v160Zm0 220h160v-160H400v160ZM180-400h160v-160H180v160Zm440 0h160v-160H620v160ZM180-180h160v-160H180v160Zm440 0h160v-160H620v160Z\"/>\n",
              "  </svg>\n",
              "    </button>\n",
              "\n",
              "  <style>\n",
              "    .colab-df-container {\n",
              "      display:flex;\n",
              "      gap: 12px;\n",
              "    }\n",
              "\n",
              "    .colab-df-convert {\n",
              "      background-color: #E8F0FE;\n",
              "      border: none;\n",
              "      border-radius: 50%;\n",
              "      cursor: pointer;\n",
              "      display: none;\n",
              "      fill: #1967D2;\n",
              "      height: 32px;\n",
              "      padding: 0 0 0 0;\n",
              "      width: 32px;\n",
              "    }\n",
              "\n",
              "    .colab-df-convert:hover {\n",
              "      background-color: #E2EBFA;\n",
              "      box-shadow: 0px 1px 2px rgba(60, 64, 67, 0.3), 0px 1px 3px 1px rgba(60, 64, 67, 0.15);\n",
              "      fill: #174EA6;\n",
              "    }\n",
              "\n",
              "    .colab-df-buttons div {\n",
              "      margin-bottom: 4px;\n",
              "    }\n",
              "\n",
              "    [theme=dark] .colab-df-convert {\n",
              "      background-color: #3B4455;\n",
              "      fill: #D2E3FC;\n",
              "    }\n",
              "\n",
              "    [theme=dark] .colab-df-convert:hover {\n",
              "      background-color: #434B5C;\n",
              "      box-shadow: 0px 1px 3px 1px rgba(0, 0, 0, 0.15);\n",
              "      filter: drop-shadow(0px 1px 2px rgba(0, 0, 0, 0.3));\n",
              "      fill: #FFFFFF;\n",
              "    }\n",
              "  </style>\n",
              "\n",
              "    <script>\n",
              "      const buttonEl =\n",
              "        document.querySelector('#df-54ae5893-8415-435c-bbf9-12b8fa3d27f7 button.colab-df-convert');\n",
              "      buttonEl.style.display =\n",
              "        google.colab.kernel.accessAllowed ? 'block' : 'none';\n",
              "\n",
              "      async function convertToInteractive(key) {\n",
              "        const element = document.querySelector('#df-54ae5893-8415-435c-bbf9-12b8fa3d27f7');\n",
              "        const dataTable =\n",
              "          await google.colab.kernel.invokeFunction('convertToInteractive',\n",
              "                                                    [key], {});\n",
              "        if (!dataTable) return;\n",
              "\n",
              "        const docLinkHtml = 'Like what you see? Visit the ' +\n",
              "          '<a target=\"_blank\" href=https://colab.research.google.com/notebooks/data_table.ipynb>data table notebook</a>'\n",
              "          + ' to learn more about interactive tables.';\n",
              "        element.innerHTML = '';\n",
              "        dataTable['output_type'] = 'display_data';\n",
              "        await google.colab.output.renderOutput(dataTable, element);\n",
              "        const docLink = document.createElement('div');\n",
              "        docLink.innerHTML = docLinkHtml;\n",
              "        element.appendChild(docLink);\n",
              "      }\n",
              "    </script>\n",
              "  </div>\n",
              "\n",
              "\n",
              "<div id=\"df-904be817-f372-4e12-908d-e54eb0341555\">\n",
              "  <button class=\"colab-df-quickchart\" onclick=\"quickchart('df-904be817-f372-4e12-908d-e54eb0341555')\"\n",
              "            title=\"Suggest charts\"\n",
              "            style=\"display:none;\">\n",
              "\n",
              "<svg xmlns=\"http://www.w3.org/2000/svg\" height=\"24px\"viewBox=\"0 0 24 24\"\n",
              "     width=\"24px\">\n",
              "    <g>\n",
              "        <path d=\"M19 3H5c-1.1 0-2 .9-2 2v14c0 1.1.9 2 2 2h14c1.1 0 2-.9 2-2V5c0-1.1-.9-2-2-2zM9 17H7v-7h2v7zm4 0h-2V7h2v10zm4 0h-2v-4h2v4z\"/>\n",
              "    </g>\n",
              "</svg>\n",
              "  </button>\n",
              "\n",
              "<style>\n",
              "  .colab-df-quickchart {\n",
              "      --bg-color: #E8F0FE;\n",
              "      --fill-color: #1967D2;\n",
              "      --hover-bg-color: #E2EBFA;\n",
              "      --hover-fill-color: #174EA6;\n",
              "      --disabled-fill-color: #AAA;\n",
              "      --disabled-bg-color: #DDD;\n",
              "  }\n",
              "\n",
              "  [theme=dark] .colab-df-quickchart {\n",
              "      --bg-color: #3B4455;\n",
              "      --fill-color: #D2E3FC;\n",
              "      --hover-bg-color: #434B5C;\n",
              "      --hover-fill-color: #FFFFFF;\n",
              "      --disabled-bg-color: #3B4455;\n",
              "      --disabled-fill-color: #666;\n",
              "  }\n",
              "\n",
              "  .colab-df-quickchart {\n",
              "    background-color: var(--bg-color);\n",
              "    border: none;\n",
              "    border-radius: 50%;\n",
              "    cursor: pointer;\n",
              "    display: none;\n",
              "    fill: var(--fill-color);\n",
              "    height: 32px;\n",
              "    padding: 0;\n",
              "    width: 32px;\n",
              "  }\n",
              "\n",
              "  .colab-df-quickchart:hover {\n",
              "    background-color: var(--hover-bg-color);\n",
              "    box-shadow: 0 1px 2px rgba(60, 64, 67, 0.3), 0 1px 3px 1px rgba(60, 64, 67, 0.15);\n",
              "    fill: var(--button-hover-fill-color);\n",
              "  }\n",
              "\n",
              "  .colab-df-quickchart-complete:disabled,\n",
              "  .colab-df-quickchart-complete:disabled:hover {\n",
              "    background-color: var(--disabled-bg-color);\n",
              "    fill: var(--disabled-fill-color);\n",
              "    box-shadow: none;\n",
              "  }\n",
              "\n",
              "  .colab-df-spinner {\n",
              "    border: 2px solid var(--fill-color);\n",
              "    border-color: transparent;\n",
              "    border-bottom-color: var(--fill-color);\n",
              "    animation:\n",
              "      spin 1s steps(1) infinite;\n",
              "  }\n",
              "\n",
              "  @keyframes spin {\n",
              "    0% {\n",
              "      border-color: transparent;\n",
              "      border-bottom-color: var(--fill-color);\n",
              "      border-left-color: var(--fill-color);\n",
              "    }\n",
              "    20% {\n",
              "      border-color: transparent;\n",
              "      border-left-color: var(--fill-color);\n",
              "      border-top-color: var(--fill-color);\n",
              "    }\n",
              "    30% {\n",
              "      border-color: transparent;\n",
              "      border-left-color: var(--fill-color);\n",
              "      border-top-color: var(--fill-color);\n",
              "      border-right-color: var(--fill-color);\n",
              "    }\n",
              "    40% {\n",
              "      border-color: transparent;\n",
              "      border-right-color: var(--fill-color);\n",
              "      border-top-color: var(--fill-color);\n",
              "    }\n",
              "    60% {\n",
              "      border-color: transparent;\n",
              "      border-right-color: var(--fill-color);\n",
              "    }\n",
              "    80% {\n",
              "      border-color: transparent;\n",
              "      border-right-color: var(--fill-color);\n",
              "      border-bottom-color: var(--fill-color);\n",
              "    }\n",
              "    90% {\n",
              "      border-color: transparent;\n",
              "      border-bottom-color: var(--fill-color);\n",
              "    }\n",
              "  }\n",
              "</style>\n",
              "\n",
              "  <script>\n",
              "    async function quickchart(key) {\n",
              "      const quickchartButtonEl =\n",
              "        document.querySelector('#' + key + ' button');\n",
              "      quickchartButtonEl.disabled = true;  // To prevent multiple clicks.\n",
              "      quickchartButtonEl.classList.add('colab-df-spinner');\n",
              "      try {\n",
              "        const charts = await google.colab.kernel.invokeFunction(\n",
              "            'suggestCharts', [key], {});\n",
              "      } catch (error) {\n",
              "        console.error('Error during call to suggestCharts:', error);\n",
              "      }\n",
              "      quickchartButtonEl.classList.remove('colab-df-spinner');\n",
              "      quickchartButtonEl.classList.add('colab-df-quickchart-complete');\n",
              "    }\n",
              "    (() => {\n",
              "      let quickchartButtonEl =\n",
              "        document.querySelector('#df-904be817-f372-4e12-908d-e54eb0341555 button');\n",
              "      quickchartButtonEl.style.display =\n",
              "        google.colab.kernel.accessAllowed ? 'block' : 'none';\n",
              "    })();\n",
              "  </script>\n",
              "</div>\n",
              "\n",
              "  <div id=\"id_5a1a9ba3-d6b9-46c6-aa17-90e792e740ae\">\n",
              "    <style>\n",
              "      .colab-df-generate {\n",
              "        background-color: #E8F0FE;\n",
              "        border: none;\n",
              "        border-radius: 50%;\n",
              "        cursor: pointer;\n",
              "        display: none;\n",
              "        fill: #1967D2;\n",
              "        height: 32px;\n",
              "        padding: 0 0 0 0;\n",
              "        width: 32px;\n",
              "      }\n",
              "\n",
              "      .colab-df-generate:hover {\n",
              "        background-color: #E2EBFA;\n",
              "        box-shadow: 0px 1px 2px rgba(60, 64, 67, 0.3), 0px 1px 3px 1px rgba(60, 64, 67, 0.15);\n",
              "        fill: #174EA6;\n",
              "      }\n",
              "\n",
              "      [theme=dark] .colab-df-generate {\n",
              "        background-color: #3B4455;\n",
              "        fill: #D2E3FC;\n",
              "      }\n",
              "\n",
              "      [theme=dark] .colab-df-generate:hover {\n",
              "        background-color: #434B5C;\n",
              "        box-shadow: 0px 1px 3px 1px rgba(0, 0, 0, 0.15);\n",
              "        filter: drop-shadow(0px 1px 2px rgba(0, 0, 0, 0.3));\n",
              "        fill: #FFFFFF;\n",
              "      }\n",
              "    </style>\n",
              "    <button class=\"colab-df-generate\" onclick=\"generateWithVariable('df')\"\n",
              "            title=\"Generate code using this dataframe.\"\n",
              "            style=\"display:none;\">\n",
              "\n",
              "  <svg xmlns=\"http://www.w3.org/2000/svg\" height=\"24px\"viewBox=\"0 0 24 24\"\n",
              "       width=\"24px\">\n",
              "    <path d=\"M7,19H8.4L18.45,9,17,7.55,7,17.6ZM5,21V16.75L18.45,3.32a2,2,0,0,1,2.83,0l1.4,1.43a1.91,1.91,0,0,1,.58,1.4,1.91,1.91,0,0,1-.58,1.4L9.25,21ZM18.45,9,17,7.55Zm-12,3A5.31,5.31,0,0,0,4.9,8.1,5.31,5.31,0,0,0,1,6.5,5.31,5.31,0,0,0,4.9,4.9,5.31,5.31,0,0,0,6.5,1,5.31,5.31,0,0,0,8.1,4.9,5.31,5.31,0,0,0,12,6.5,5.46,5.46,0,0,0,6.5,12Z\"/>\n",
              "  </svg>\n",
              "    </button>\n",
              "    <script>\n",
              "      (() => {\n",
              "      const buttonEl =\n",
              "        document.querySelector('#id_5a1a9ba3-d6b9-46c6-aa17-90e792e740ae button.colab-df-generate');\n",
              "      buttonEl.style.display =\n",
              "        google.colab.kernel.accessAllowed ? 'block' : 'none';\n",
              "\n",
              "      buttonEl.onclick = () => {\n",
              "        google.colab.notebook.generateWithVariable('df');\n",
              "      }\n",
              "      })();\n",
              "    </script>\n",
              "  </div>\n",
              "\n",
              "    </div>\n",
              "  </div>\n"
            ],
            "application/vnd.google.colaboratory.intrinsic+json": {
              "type": "dataframe",
              "variable_name": "df",
              "summary": "{\n  \"name\": \"df\",\n  \"rows\": 6,\n  \"fields\": [\n    {\n      \"column\": \"A\",\n      \"properties\": {\n        \"dtype\": \"number\",\n        \"std\": 1.1233219909502603,\n        \"min\": -0.9500389529260995,\n        \"max\": 2.0225184203593773,\n        \"num_unique_values\": 6,\n        \"samples\": [\n          0.6056075163150793,\n          -0.9500389529260995,\n          1.1032268159411487\n        ],\n        \"semantic_type\": \"\",\n        \"description\": \"\"\n      }\n    },\n    {\n      \"column\": \"B\",\n      \"properties\": {\n        \"dtype\": \"number\",\n        \"std\": 1.6645552339118852,\n        \"min\": -2.141370396923189,\n        \"max\": 2.239423766290755,\n        \"num_unique_values\": 6,\n        \"samples\": [\n          2.239423766290755,\n          1.2681406227300218,\n          0.9007538395496049\n        ],\n        \"semantic_type\": \"\",\n        \"description\": \"\"\n      }\n    },\n    {\n      \"column\": \"C\",\n      \"properties\": {\n        \"dtype\": \"number\",\n        \"std\": 1.671924842717356,\n        \"min\": -1.972249375376942,\n        \"max\": 2.8316360161472685,\n        \"num_unique_values\": 6,\n        \"samples\": [\n          -1.972249375376942,\n          1.562293247815089,\n          2.8316360161472685\n        ],\n        \"semantic_type\": \"\",\n        \"description\": \"\"\n      }\n    },\n    {\n      \"column\": \"D\",\n      \"properties\": {\n        \"dtype\": \"number\",\n        \"std\": 1.3886228428303597,\n        \"min\": -2.2676539144119197,\n        \"max\": 1.223524338968906,\n        \"num_unique_values\": 6,\n        \"samples\": [\n          1.2026110186405161,\n          -1.2742661426151223,\n          0.27254003756440287\n        ],\n        \"semantic_type\": \"\",\n        \"description\": \"\"\n      }\n    }\n  ]\n}"
            }
          },
          "metadata": {},
          "execution_count": 5
        }
      ],
      "source": [
        "df = pd.DataFrame(np.random.randn(6,4), index=dates, columns=list('ABCD'))\n",
        "df"
      ]
    },
    {
      "cell_type": "markdown",
      "metadata": {
        "id": "BF4N9UrYTAfz"
      },
      "source": [
        "### Creating Dataframe from np array"
      ]
    },
    {
      "cell_type": "code",
      "execution_count": null,
      "metadata": {
        "colab": {
          "base_uri": "https://localhost:8080/"
        },
        "id": "aSDZLANtTAf0",
        "outputId": "d37ec2d5-5fd2-4f18-ecd5-87d8ea9dd2dc"
      },
      "outputs": [
        {
          "output_type": "stream",
          "name": "stdout",
          "text": [
            "     Col1 Col2\n",
            "Row1    1    2\n",
            "Row2    3    4\n"
          ]
        }
      ],
      "source": [
        "data = np.array([['','Col1','Col2'],\n",
        "                 ['Row1',1,2],\n",
        "                ['Row2',3,4]])\n",
        "\n",
        "print(pd.DataFrame(data=data[1:,1:],\n",
        "                  index=data[1:,0],\n",
        "                  columns=data[0,1:]))\n",
        "#df=pd.DataFrame(data=data[1:,1:],\n",
        "#                  index=data[1:,0],\n",
        "#                  columns=data[0,1:])\n",
        "#print(df.index)\n",
        "#print(df.columns)\n",
        "#print(df)"
      ]
    },
    {
      "cell_type": "markdown",
      "metadata": {
        "id": "NCAkZEe1TAf1"
      },
      "source": [
        "### Creating a DataFrame by passing a dict of objects that can be converted to series-like.\n"
      ]
    },
    {
      "cell_type": "code",
      "execution_count": null,
      "metadata": {
        "colab": {
          "base_uri": "https://localhost:8080/",
          "height": 345
        },
        "id": "NATbDiDeTAf1",
        "outputId": "ca39d80e-f554-4380-96f1-1a3811cf6840"
      },
      "outputs": [
        {
          "output_type": "stream",
          "name": "stdout",
          "text": [
            "     A          B    C  D    E\n",
            "0  1.0 2013-01-02  1.0  3  foo\n",
            "1  1.0 2013-01-02  1.0  3  foo\n",
            "2  1.0 2013-01-02  1.0  3  foo\n",
            "3  1.0 2013-01-02  1.0  3  foo\n",
            "4  1.0 2013-01-02  1.0  3  foo\n"
          ]
        },
        {
          "output_type": "execute_result",
          "data": {
            "text/plain": [
              "A          float64\n",
              "B    datetime64[s]\n",
              "C          float32\n",
              "D            int32\n",
              "E           object\n",
              "dtype: object"
            ],
            "text/html": [
              "<div>\n",
              "<style scoped>\n",
              "    .dataframe tbody tr th:only-of-type {\n",
              "        vertical-align: middle;\n",
              "    }\n",
              "\n",
              "    .dataframe tbody tr th {\n",
              "        vertical-align: top;\n",
              "    }\n",
              "\n",
              "    .dataframe thead th {\n",
              "        text-align: right;\n",
              "    }\n",
              "</style>\n",
              "<table border=\"1\" class=\"dataframe\">\n",
              "  <thead>\n",
              "    <tr style=\"text-align: right;\">\n",
              "      <th></th>\n",
              "      <th>0</th>\n",
              "    </tr>\n",
              "  </thead>\n",
              "  <tbody>\n",
              "    <tr>\n",
              "      <th>A</th>\n",
              "      <td>float64</td>\n",
              "    </tr>\n",
              "    <tr>\n",
              "      <th>B</th>\n",
              "      <td>datetime64[s]</td>\n",
              "    </tr>\n",
              "    <tr>\n",
              "      <th>C</th>\n",
              "      <td>float32</td>\n",
              "    </tr>\n",
              "    <tr>\n",
              "      <th>D</th>\n",
              "      <td>int32</td>\n",
              "    </tr>\n",
              "    <tr>\n",
              "      <th>E</th>\n",
              "      <td>object</td>\n",
              "    </tr>\n",
              "  </tbody>\n",
              "</table>\n",
              "</div><br><label><b>dtype:</b> object</label>"
            ]
          },
          "metadata": {},
          "execution_count": 7
        }
      ],
      "source": [
        "df2 = pd.DataFrame({ 'A' : 1.,\n",
        "   ...:              'B' : pd.Timestamp('20130102'),\n",
        "   ...:              'C' : pd.Series(1,index=range(5),dtype='float32'),\n",
        "   ...:              'D' : np.array([3] * 5,dtype='int32'),\n",
        "   ...:              'E' : 'foo' })\n",
        "print(df2)\n",
        "df2.dtypes"
      ]
    },
    {
      "cell_type": "markdown",
      "metadata": {
        "id": "4givQfKkTAf2"
      },
      "source": [
        "### Creating Dataframes from array, dictionary and series"
      ]
    },
    {
      "cell_type": "code",
      "execution_count": null,
      "metadata": {
        "id": "Rs2R3DLmTAf3",
        "outputId": "a9c3dec0-a7ac-443a-cf52-4188b6617607"
      },
      "outputs": [
        {
          "name": "stdout",
          "output_type": "stream",
          "text": [
            "Data Frame From Array\n",
            "    0  1  2\n",
            "0  1  2  3\n",
            "1  4  5  6\n"
          ]
        }
      ],
      "source": [
        "# Take a 2D array as input to your DataFrame\n",
        "my_2darray = np.array([[1, 2, 3], [4, 5, 6]])\n",
        "print(\"Data Frame From Array\\n\", pd.DataFrame(my_2darray))"
      ]
    },
    {
      "cell_type": "code",
      "execution_count": null,
      "metadata": {
        "id": "qsU2SFe_TAf3",
        "outputId": "c7d83ca3-c46b-4fe0-cf11-d1541c1f2b54"
      },
      "outputs": [
        {
          "name": "stdout",
          "output_type": "stream",
          "text": [
            "Data Frame From Dictionary\n",
            "    A  B  3\n",
            "0  1  1  2\n",
            "1  3  2  4\n"
          ]
        }
      ],
      "source": [
        "# Take a dictionary as input to your DataFrame\n",
        "my_dict = {'A': ['1', '3'], 'B': ['1', '2'], 3: ['2', '4']}\n",
        "print(\"Data Frame From Dictionary\\n\",pd.DataFrame(my_dict))"
      ]
    },
    {
      "cell_type": "code",
      "execution_count": null,
      "metadata": {
        "id": "7qeHjtIGTAf4",
        "outputId": "4b49d105-4be5-4385-8571-e888bbccf231"
      },
      "outputs": [
        {
          "name": "stdout",
          "output_type": "stream",
          "text": [
            "Data Frame From another dataframe\n",
            "    A\n",
            "0  4\n",
            "1  5\n",
            "2  6\n",
            "3  7\n"
          ]
        }
      ],
      "source": [
        "# Take a DataFrame as input to your DataFrame\n",
        "my_df = pd.DataFrame(data=[4,5,6,7], index=range(0,4), columns=['A'])\n",
        "print(\"Data Frame From another dataframe\\n\",pd.DataFrame(my_df))"
      ]
    },
    {
      "cell_type": "code",
      "execution_count": null,
      "metadata": {
        "id": "UQ0u0en4TAf5",
        "outputId": "dc297b58-3d9f-4e4d-de5d-cccf1799289a"
      },
      "outputs": [
        {
          "name": "stdout",
          "output_type": "stream",
          "text": [
            "Data Frame From Series\n",
            "                         0\n",
            "India           New Delhi\n",
            "United Kingdom     London\n"
          ]
        }
      ],
      "source": [
        "# Take a Series as input to your DataFrame\n",
        "my_series = pd.Series({\"United Kingdom\":\"London\", \"India\":\"New Delhi\"})\n",
        "print(\"Data Frame From Series\\n\",pd.DataFrame(my_series))"
      ]
    },
    {
      "cell_type": "markdown",
      "metadata": {
        "id": "d3kZ-8OjTAf5"
      },
      "source": [
        "### Shape and Length Property"
      ]
    },
    {
      "cell_type": "code",
      "execution_count": null,
      "metadata": {
        "id": "58KafAPkTAf6",
        "outputId": "a7f223c7-baf7-4626-8c9a-889b1f85a77c"
      },
      "outputs": [
        {
          "name": "stdout",
          "output_type": "stream",
          "text": [
            "3\n",
            "(2, 3)\n",
            "2\n"
          ]
        }
      ],
      "source": [
        "df = pd.DataFrame(np.array([[1, 2, 3], [4, 5, 6]]))\n",
        "\n",
        "# Use the `shape` property\n",
        "print(df.shape[1])\n",
        "print(df.shape)\n",
        "# Or use the `len()` function with the `index` property\n",
        "print(len(df.index))"
      ]
    },
    {
      "cell_type": "code",
      "execution_count": null,
      "metadata": {
        "id": "H1djE-wDTAf6",
        "outputId": "128a9b2a-f93b-4b7e-edb9-97696d8ffd08"
      },
      "outputs": [
        {
          "data": {
            "text/plain": [
              "[0, 1, 2]"
            ]
          },
          "execution_count": 14,
          "metadata": {},
          "output_type": "execute_result"
        }
      ],
      "source": [
        "list(df.columns.values)"
      ]
    },
    {
      "cell_type": "markdown",
      "metadata": {
        "id": "iZMVApArTAf7"
      },
      "source": [
        "### Accesing elements of the dataframe"
      ]
    },
    {
      "cell_type": "code",
      "execution_count": null,
      "metadata": {
        "id": "0OqM3lPeTAf7",
        "outputId": "11c00a6e-0fa3-41c7-e5f4-863abe21ab07"
      },
      "outputs": [
        {
          "name": "stdout",
          "output_type": "stream",
          "text": [
            "   A  B  C\n",
            "0  1  2  3\n",
            "1  4  5  6\n",
            "2  7  8  9\n",
            "Using iloc[] 1\n",
            "Using loc[] 2\n",
            "Using at[] 6\n",
            "Using iat[] 9\n",
            "4\n"
          ]
        }
      ],
      "source": [
        "df = pd.DataFrame(data=[[1,2,3],[4,5,6],[7,8,9]], columns=['A', 'B','C'])\n",
        "print(df)\n",
        "\n",
        "# Using `iloc[]`\n",
        "print(\"Using iloc[]\",df.iloc[0][0])\n",
        "\n",
        "# Using `loc[]`\n",
        "print(\"Using loc[]\", df.loc[0]['B'])\n",
        "\n",
        "# Using `at[]`\n",
        "print(\"Using at[]\", df.at[1,'C'])\n",
        "\n",
        "# Using `iat[]`\n",
        "print(\"Using iat[]\", df.iat[2,2])\n",
        "\n",
        "# Using `get_value(index, column)`\n",
        "print(df.get_value(1, 'A'))"
      ]
    },
    {
      "cell_type": "markdown",
      "metadata": {
        "id": "yMzWIg6aTAf8"
      },
      "source": [
        "### Adding and Accesing an index to dataframe"
      ]
    },
    {
      "cell_type": "code",
      "execution_count": null,
      "metadata": {
        "id": "0Wc1FZieTAf8",
        "outputId": "7ef1a892-655d-4aee-e5fe-c173bb96659b"
      },
      "outputs": [
        {
          "name": "stdout",
          "output_type": "stream",
          "text": [
            "   48  49  50\n",
            "2   1   2   3\n",
            "A   4   5   6\n",
            "4   7   8   9\n"
          ]
        }
      ],
      "source": [
        "df = pd.DataFrame(data=np.array([[1, 2, 3],\n",
        "                                 [4, 5, 6],\n",
        "                                 [7, 8, 9]]),\n",
        "                  index= [2, 'A', 4],\n",
        "                  columns=[48, 49, 50])\n",
        "\n",
        "print(df)"
      ]
    },
    {
      "cell_type": "code",
      "execution_count": null,
      "metadata": {
        "id": "_m08qG0nTAf9",
        "outputId": "a106e328-59b7-4cd9-8a25-aa30bc6fd259"
      },
      "outputs": [
        {
          "name": "stdout",
          "output_type": "stream",
          "text": [
            "Accesing you loc\n",
            " 48    1\n",
            "49    2\n",
            "50    3\n",
            "Name: 2, dtype: int32\n",
            "Accessing you iloc\n",
            " 48    7\n",
            "49    8\n",
            "50    9\n",
            "Name: 4, dtype: int32\n",
            "Accesing you ix\n",
            " 48    7\n",
            "49    8\n",
            "50    9\n",
            "Name: 4, dtype: int32\n"
          ]
        },
        {
          "name": "stderr",
          "output_type": "stream",
          "text": [
            "D:\\ProgramData\\Anaconda\\lib\\site-packages\\ipykernel_launcher.py:8: DeprecationWarning: \n",
            ".ix is deprecated. Please use\n",
            ".loc for label based indexing or\n",
            ".iloc for positional indexing\n",
            "\n",
            "See the documentation here:\n",
            "http://pandas.pydata.org/pandas-docs/stable/indexing.html#ix-indexer-is-deprecated\n",
            "  \n"
          ]
        }
      ],
      "source": [
        "# Pass `2` to `loc`\n",
        "print(\"Accesing you loc\\n\",df.loc[2])\n",
        "\n",
        "# Pass `2` to `iloc`\n",
        "print(\"Accessing you iloc\\n\",df.iloc[2])\n",
        "\n",
        "# Pass `2` to `ix`\n",
        "print(\"Accesing you ix\\n\",df.ix[2])"
      ]
    },
    {
      "cell_type": "markdown",
      "metadata": {
        "id": "eSc6i_KyTAf9"
      },
      "source": [
        "### Adding a row to data frame"
      ]
    },
    {
      "cell_type": "code",
      "execution_count": null,
      "metadata": {
        "id": "hQFLMElSTAf-",
        "outputId": "7c4b5ffb-b845-43ac-d8d8-4e61edb10cd2"
      },
      "outputs": [
        {
          "name": "stdout",
          "output_type": "stream",
          "text": [
            "      48  49  50\n",
            "1.0    1   2   3\n",
            "12.6   4   5   6\n",
            "4.8    7   8   9\n",
            "      48  49  50\n",
            "1.0    1   2   3\n",
            "12.6   4   5   6\n",
            "4.8   60  50  40\n",
            "      48  49  50\n",
            "1.0    1   2   3\n",
            "12.6   4   5   6\n",
            "4.8   60  50  40\n",
            "2.0   11  12  13\n"
          ]
        },
        {
          "name": "stderr",
          "output_type": "stream",
          "text": [
            "D:\\ProgramData\\Anaconda\\lib\\site-packages\\ipykernel_launcher.py:10: DeprecationWarning: \n",
            ".ix is deprecated. Please use\n",
            ".loc for label based indexing or\n",
            ".iloc for positional indexing\n",
            "\n",
            "See the documentation here:\n",
            "http://pandas.pydata.org/pandas-docs/stable/indexing.html#ix-indexer-is-deprecated\n",
            "  # Remove the CWD from sys.path while we load stuff.\n"
          ]
        }
      ],
      "source": [
        "df = pd.DataFrame(data=np.array([[1, 2, 3],\n",
        "                                 [4, 5, 6],\n",
        "                                 [7, 8, 9]]),\n",
        "                  index= [1, 12.6, 4.8],\n",
        "                  columns=[48, 49, 50])\n",
        "\n",
        "print(df)\n",
        "# There's No index labeled `2`,\n",
        "#so you will change the index at position `2`\n",
        "df.ix[2] = [60, 50, 40]\n",
        "print(df)\n",
        "\n",
        "# This will make an index labeled `2`\n",
        "#and add the new values\n",
        "df.loc[2] = [11, 12, 13]\n",
        "print(df)"
      ]
    },
    {
      "cell_type": "markdown",
      "metadata": {
        "id": "wEUn8l-JTAf-"
      },
      "source": [
        "### Adding a Column to data frame"
      ]
    },
    {
      "cell_type": "code",
      "execution_count": null,
      "metadata": {
        "id": "O7C_4iNZTAf_",
        "outputId": "67f49010-71f7-4be8-966f-4aa18dde9cbb"
      },
      "outputs": [
        {
          "name": "stdout",
          "output_type": "stream",
          "text": [
            "   A  B  C\n",
            "0  1  2  3\n",
            "1  4  5  6\n",
            "2  7  8  9\n",
            "After Adding the Column\n",
            "    A  B  C  D\n",
            "0  1  2  3  0\n",
            "1  4  5  6  1\n",
            "2  7  8  9  2\n"
          ]
        }
      ],
      "source": [
        "df = pd.DataFrame(data=np.array([[1, 2, 3],\n",
        "                                 [4, 5, 6],\n",
        "                                 [7, 8, 9]]),\n",
        "                  columns=['A', 'B', 'C'])\n",
        "\n",
        "print(df)\n",
        "\n",
        "# Use `.index`\n",
        "df['D'] = df.index\n",
        "\n",
        "# Print `df`\n",
        "print(\"After Adding the Column\\n\", df)"
      ]
    },
    {
      "cell_type": "markdown",
      "metadata": {
        "id": "oT9eZfIeTAf_"
      },
      "source": [
        "### Another way of adding column"
      ]
    },
    {
      "cell_type": "code",
      "execution_count": null,
      "metadata": {
        "id": "T5MuYXCvTAgA",
        "outputId": "a3dc5e69-4997-4f29-e9c0-517fa22c656f"
      },
      "outputs": [
        {
          "name": "stdout",
          "output_type": "stream",
          "text": [
            "After Adding another Column\n",
            "    A  B  C  D   E\n",
            "0  1  2  3  0  11\n",
            "1  4  5  6  1  12\n",
            "2  7  8  9  2  13\n",
            "After Adding another Column\n",
            "    A  B  C  D   E  3\n",
            "0  1  2  3  0  11  5\n",
            "1  4  5  6  1  12  6\n",
            "2  7  8  9  2  13  7\n"
          ]
        }
      ],
      "source": [
        "df['E']=[11,12,13]\n",
        "\n",
        "# Print `df`\n",
        "print(\"After Adding another Column\\n\", df)\n",
        "\n",
        "df.loc[:, 3] = pd.Series(['5', '6', '7'], index=df.index)\n",
        "# Print `df`\n",
        "print(\"After Adding another Column\\n\", df)\n"
      ]
    },
    {
      "cell_type": "markdown",
      "metadata": {
        "id": "0qxlrQZATAgA"
      },
      "source": [
        "### Resetting the index"
      ]
    },
    {
      "cell_type": "code",
      "execution_count": null,
      "metadata": {
        "id": "RrDJmH0tTAgB",
        "outputId": "80597c2b-f111-4deb-fb62-cfb955cd0ed2"
      },
      "outputs": [
        {
          "name": "stdout",
          "output_type": "stream",
          "text": [
            "    A  B  C\n",
            "20  1  2  3\n",
            "30  4  5  6\n",
            "40  7  8  9\n",
            "    A  B  C\n",
            "20  1  2  3\n",
            "30  4  5  6\n",
            "40  7  8  9\n"
          ]
        }
      ],
      "source": [
        "# Check out the weird index of your dataframe\n",
        "df = pd.DataFrame(data=np.array([[1, 2, 3],\n",
        "                                 [4, 5, 6],\n",
        "                                 [7, 8, 9]]),\n",
        "                  index=[20,30,40],\n",
        "                  columns=['A', 'B', 'C'])\n",
        "\n",
        "print(df)\n",
        "\n",
        "#print(df.reset_index())\n",
        "# Use `reset_index()` to reset the values\n",
        "#print(df.reset_index(drop=True))\n",
        "\n",
        "# Use `reset_index()` to reset the values\n",
        "df.reset_index(inplace=False)\n",
        "print(df)\n"
      ]
    },
    {
      "cell_type": "markdown",
      "metadata": {
        "id": "FFiOqR_qTAgB"
      },
      "source": [
        "### Deleting the Column"
      ]
    },
    {
      "cell_type": "code",
      "execution_count": null,
      "metadata": {
        "id": "rD_i78x9TAgC",
        "outputId": "23420b86-3568-4379-cbad-42613ec3b056"
      },
      "outputs": [
        {
          "name": "stdout",
          "output_type": "stream",
          "text": [
            "      A  B  C\n",
            "2.5   1  2  3\n",
            "12.6  4  5  6\n",
            "4.8   7  8  9\n",
            "After Droping the Column \n",
            "       B  C\n",
            "2.5   2  3\n",
            "12.6  5  6\n",
            "4.8   8  9\n",
            "After Dropping another Column\n",
            "      B\n",
            "2.5   2\n",
            "12.6  5\n",
            "4.8   8\n"
          ]
        }
      ],
      "source": [
        "df = pd.DataFrame(data=np.array([[1, 2, 3], [4, 5, 6], [7, 8, 9]]),\n",
        "                  index= [2.5, 12.6, 4.8],\n",
        "                  columns=['A','B','C'])\n",
        "\n",
        "print(df)\n",
        "# Drop the column with label 'A'\n",
        "# Meaning of axis attribute: Whether to drop labels from the index (0 or ‘index’) or columns (1 or ‘columns’).\n",
        "df.drop('A',axis=1, inplace=True)\n",
        "print(\"After Droping the Column \\n\",df)\n",
        "# Drop the column at position 2\n",
        "print(\"After Dropping another Column\")\n",
        "print(df.drop(df.columns[1], axis=1))"
      ]
    },
    {
      "cell_type": "markdown",
      "metadata": {
        "id": "jRZLoRZfTAgC"
      },
      "source": [
        "### Deleting the Row"
      ]
    },
    {
      "cell_type": "code",
      "execution_count": null,
      "metadata": {
        "id": "VaEClbLUTAgC",
        "outputId": "9d3864cc-e49f-4f46-9847-f95b27c666c9"
      },
      "outputs": [
        {
          "name": "stdout",
          "output_type": "stream",
          "text": [
            "      48  49  50\n",
            "2.5    1   2   3\n",
            "12.6   4   5   6\n",
            "4.8    7   8   9\n",
            "4.8    7   8  10\n",
            "\n",
            "\n",
            "      48  49  50\n",
            "2.5    1   2   3\n",
            "12.6   4   5   6\n",
            "4.8    7   8  10\n",
            "\n",
            "Drop the index at position 1\n",
            "     48  49  50\n",
            "2.5   1   2   3\n",
            "4.8   7   8  10\n"
          ]
        }
      ],
      "source": [
        "df = pd.DataFrame(data=np.array([[1, 2, 3],\n",
        "                                 [4, 5, 6],\n",
        "                                 [7, 8, 9],\n",
        "                                 [7, 8, 10]]),\n",
        "                  index= [2.5, 12.6, 4.8, 4.8],\n",
        "                  columns=[48, 49, 50])\n",
        "\n",
        "\n",
        "# Check out your DataFrame `df`\n",
        "print(df)\n",
        "print(\"\\n\")\n",
        "# Drop the duplicates in `df`\n",
        "df=pd.DataFrame(data=df.drop_duplicates([48], keep='last'))\n",
        "print(df)\n",
        "\n",
        "print(\"\\nDrop the index at position 1\")\n",
        "print(df.drop(df.index[1]))\n"
      ]
    },
    {
      "cell_type": "markdown",
      "metadata": {
        "id": "zS3G0io6TAgO"
      },
      "source": [
        "### Renaming the Index or Coulmns of Dataframe"
      ]
    },
    {
      "cell_type": "code",
      "execution_count": null,
      "metadata": {
        "id": "oKQzLCEsTAgO",
        "outputId": "11b3087e-609f-45e1-d88a-5350eb8fc784"
      },
      "outputs": [
        {
          "name": "stdout",
          "output_type": "stream",
          "text": [
            "      48  49  50\n",
            "2.5    1   2   3\n",
            "12.6   4   5   6\n",
            "4.8    7   8   9\n",
            "4.8    7   8  10\n",
            "After Renaming the Columns\n",
            "       A  B   C\n",
            "2.5   1  2   3\n",
            "12.6  4  5   6\n",
            "4.8   7  8   9\n",
            "4.8   7  8  10\n",
            "After Renaming the Index\n",
            "       A  B   C\n",
            "a     1  2   3\n",
            "12.6  4  5   6\n",
            "4.8   7  8   9\n",
            "4.8   7  8  10\n"
          ]
        }
      ],
      "source": [
        "df = pd.DataFrame(data=np.array([[1, 2, 3],\n",
        "                                 [4, 5, 6],\n",
        "                                 [7, 8, 9],\n",
        "                                 [7, 8, 10]]),\n",
        "                  index= [2.5, 12.6, 4.8, 4.8],\n",
        "                  columns=[48, 49, 50])\n",
        "\n",
        "print(df)\n",
        "# Define the new names of your columns\n",
        "newcols = {\n",
        "    48: 'A',\n",
        "    49: 'B',\n",
        "    50: 'C'\n",
        "}\n",
        "\n",
        "# Use `rename()` to rename your columns\n",
        "df.rename(columns=newcols, inplace=True)\n",
        "\n",
        "print(\"After Renaming the Columns\\n\", df)\n",
        "\n",
        "# Rename your index\n",
        "df=pd.DataFrame(data=df.rename(index={2.5: 'a'}))\n",
        "\n",
        "print(\"After Renaming the Index\\n\", df)"
      ]
    },
    {
      "cell_type": "markdown",
      "metadata": {
        "id": "WQOsYSjpTAgP"
      },
      "source": [
        "### Basic Operations on data"
      ]
    },
    {
      "cell_type": "code",
      "execution_count": null,
      "metadata": {
        "id": "NyL8fOukTAgP",
        "outputId": "67fa56e7-bb83-44c1-a04b-a1883bc20168"
      },
      "outputs": [
        {
          "name": "stdout",
          "output_type": "stream",
          "text": [
            "      A  B   C\n",
            "a     1  2   3\n",
            "12.6  4  5   6\n",
            "4.8   7  8   9\n",
            "4.8   7  8  10\n"
          ]
        },
        {
          "data": {
            "text/html": [
              "<div>\n",
              "<style>\n",
              "    .dataframe thead tr:only-child th {\n",
              "        text-align: right;\n",
              "    }\n",
              "\n",
              "    .dataframe thead th {\n",
              "        text-align: left;\n",
              "    }\n",
              "\n",
              "    .dataframe tbody tr th {\n",
              "        vertical-align: top;\n",
              "    }\n",
              "</style>\n",
              "<table border=\"1\" class=\"dataframe\">\n",
              "  <thead>\n",
              "    <tr style=\"text-align: right;\">\n",
              "      <th></th>\n",
              "      <th>a</th>\n",
              "      <th>12.6</th>\n",
              "      <th>4.8</th>\n",
              "      <th>4.8</th>\n",
              "    </tr>\n",
              "  </thead>\n",
              "  <tbody>\n",
              "    <tr>\n",
              "      <th>A</th>\n",
              "      <td>1</td>\n",
              "      <td>4</td>\n",
              "      <td>7</td>\n",
              "      <td>7</td>\n",
              "    </tr>\n",
              "    <tr>\n",
              "      <th>B</th>\n",
              "      <td>2</td>\n",
              "      <td>5</td>\n",
              "      <td>8</td>\n",
              "      <td>8</td>\n",
              "    </tr>\n",
              "    <tr>\n",
              "      <th>C</th>\n",
              "      <td>3</td>\n",
              "      <td>6</td>\n",
              "      <td>9</td>\n",
              "      <td>10</td>\n",
              "    </tr>\n",
              "  </tbody>\n",
              "</table>\n",
              "</div>"
            ],
            "text/plain": [
              "   a  12.6  4.8  4.8\n",
              "A  1     4    7    7\n",
              "B  2     5    8    8\n",
              "C  3     6    9   10"
            ]
          },
          "execution_count": 25,
          "metadata": {},
          "output_type": "execute_result"
        }
      ],
      "source": [
        "print(df)\n",
        "df.T # Transpose of data"
      ]
    },
    {
      "cell_type": "code",
      "execution_count": null,
      "metadata": {
        "id": "Ni8fly3sTAgQ",
        "outputId": "ffd92381-0ecd-4b81-83ec-23d58f9d997f"
      },
      "outputs": [
        {
          "data": {
            "text/html": [
              "<div>\n",
              "<style>\n",
              "    .dataframe thead tr:only-child th {\n",
              "        text-align: right;\n",
              "    }\n",
              "\n",
              "    .dataframe thead th {\n",
              "        text-align: left;\n",
              "    }\n",
              "\n",
              "    .dataframe tbody tr th {\n",
              "        vertical-align: top;\n",
              "    }\n",
              "</style>\n",
              "<table border=\"1\" class=\"dataframe\">\n",
              "  <thead>\n",
              "    <tr style=\"text-align: right;\">\n",
              "      <th></th>\n",
              "      <th>C</th>\n",
              "      <th>B</th>\n",
              "      <th>A</th>\n",
              "    </tr>\n",
              "  </thead>\n",
              "  <tbody>\n",
              "    <tr>\n",
              "      <th>a</th>\n",
              "      <td>3</td>\n",
              "      <td>2</td>\n",
              "      <td>1</td>\n",
              "    </tr>\n",
              "    <tr>\n",
              "      <th>12.6</th>\n",
              "      <td>6</td>\n",
              "      <td>5</td>\n",
              "      <td>4</td>\n",
              "    </tr>\n",
              "    <tr>\n",
              "      <th>4.8</th>\n",
              "      <td>9</td>\n",
              "      <td>8</td>\n",
              "      <td>7</td>\n",
              "    </tr>\n",
              "    <tr>\n",
              "      <th>4.8</th>\n",
              "      <td>10</td>\n",
              "      <td>8</td>\n",
              "      <td>7</td>\n",
              "    </tr>\n",
              "  </tbody>\n",
              "</table>\n",
              "</div>"
            ],
            "text/plain": [
              "       C  B  A\n",
              "a      3  2  1\n",
              "12.6   6  5  4\n",
              "4.8    9  8  7\n",
              "4.8   10  8  7"
            ]
          },
          "execution_count": 26,
          "metadata": {},
          "output_type": "execute_result"
        }
      ],
      "source": [
        "df.sort_index(axis=1, ascending=False)  #Sorting of Columns"
      ]
    },
    {
      "cell_type": "code",
      "execution_count": null,
      "metadata": {
        "id": "CnpMS1XgTAgR",
        "outputId": "b7d9332b-1e32-43a1-ddf1-7b2c7ca5234a"
      },
      "outputs": [
        {
          "data": {
            "text/html": [
              "<div>\n",
              "<style>\n",
              "    .dataframe thead tr:only-child th {\n",
              "        text-align: right;\n",
              "    }\n",
              "\n",
              "    .dataframe thead th {\n",
              "        text-align: left;\n",
              "    }\n",
              "\n",
              "    .dataframe tbody tr th {\n",
              "        vertical-align: top;\n",
              "    }\n",
              "</style>\n",
              "<table border=\"1\" class=\"dataframe\">\n",
              "  <thead>\n",
              "    <tr style=\"text-align: right;\">\n",
              "      <th></th>\n",
              "      <th>A</th>\n",
              "      <th>B</th>\n",
              "      <th>C</th>\n",
              "    </tr>\n",
              "  </thead>\n",
              "  <tbody>\n",
              "    <tr>\n",
              "      <th>a</th>\n",
              "      <td>1</td>\n",
              "      <td>2</td>\n",
              "      <td>3</td>\n",
              "    </tr>\n",
              "    <tr>\n",
              "      <th>12.6</th>\n",
              "      <td>4</td>\n",
              "      <td>5</td>\n",
              "      <td>6</td>\n",
              "    </tr>\n",
              "    <tr>\n",
              "      <th>4.8</th>\n",
              "      <td>7</td>\n",
              "      <td>8</td>\n",
              "      <td>9</td>\n",
              "    </tr>\n",
              "    <tr>\n",
              "      <th>4.8</th>\n",
              "      <td>7</td>\n",
              "      <td>8</td>\n",
              "      <td>10</td>\n",
              "    </tr>\n",
              "  </tbody>\n",
              "</table>\n",
              "</div>"
            ],
            "text/plain": [
              "      A  B   C\n",
              "a     1  2   3\n",
              "12.6  4  5   6\n",
              "4.8   7  8   9\n",
              "4.8   7  8  10"
            ]
          },
          "execution_count": 27,
          "metadata": {},
          "output_type": "execute_result"
        }
      ],
      "source": [
        "df.sort_values(by='B') #Sorting of rows by Column"
      ]
    },
    {
      "cell_type": "code",
      "execution_count": null,
      "metadata": {
        "id": "cEtFCYnYTAgR",
        "outputId": "ef192f07-4d7a-4682-900f-99efb0377468"
      },
      "outputs": [
        {
          "data": {
            "text/html": [
              "<div>\n",
              "<style>\n",
              "    .dataframe thead tr:only-child th {\n",
              "        text-align: right;\n",
              "    }\n",
              "\n",
              "    .dataframe thead th {\n",
              "        text-align: left;\n",
              "    }\n",
              "\n",
              "    .dataframe tbody tr th {\n",
              "        vertical-align: top;\n",
              "    }\n",
              "</style>\n",
              "<table border=\"1\" class=\"dataframe\">\n",
              "  <thead>\n",
              "    <tr style=\"text-align: right;\">\n",
              "      <th></th>\n",
              "      <th>A</th>\n",
              "      <th>B</th>\n",
              "    </tr>\n",
              "  </thead>\n",
              "  <tbody>\n",
              "    <tr>\n",
              "      <th>a</th>\n",
              "      <td>1</td>\n",
              "      <td>2</td>\n",
              "    </tr>\n",
              "    <tr>\n",
              "      <th>12.6</th>\n",
              "      <td>4</td>\n",
              "      <td>5</td>\n",
              "    </tr>\n",
              "    <tr>\n",
              "      <th>4.8</th>\n",
              "      <td>7</td>\n",
              "      <td>8</td>\n",
              "    </tr>\n",
              "    <tr>\n",
              "      <th>4.8</th>\n",
              "      <td>7</td>\n",
              "      <td>8</td>\n",
              "    </tr>\n",
              "  </tbody>\n",
              "</table>\n",
              "</div>"
            ],
            "text/plain": [
              "      A  B\n",
              "a     1  2\n",
              "12.6  4  5\n",
              "4.8   7  8\n",
              "4.8   7  8"
            ]
          },
          "execution_count": 28,
          "metadata": {},
          "output_type": "execute_result"
        }
      ],
      "source": [
        "#For Selecting multiple Columns\n",
        "df.loc[:,['A','B']]"
      ]
    },
    {
      "cell_type": "code",
      "execution_count": null,
      "metadata": {
        "id": "_5DekIReTAgS",
        "outputId": "d0a68ba0-3dcd-4a64-be47-ceeee65339dc"
      },
      "outputs": [
        {
          "data": {
            "text/html": [
              "<div>\n",
              "<style>\n",
              "    .dataframe thead tr:only-child th {\n",
              "        text-align: right;\n",
              "    }\n",
              "\n",
              "    .dataframe thead th {\n",
              "        text-align: left;\n",
              "    }\n",
              "\n",
              "    .dataframe tbody tr th {\n",
              "        vertical-align: top;\n",
              "    }\n",
              "</style>\n",
              "<table border=\"1\" class=\"dataframe\">\n",
              "  <thead>\n",
              "    <tr style=\"text-align: right;\">\n",
              "      <th></th>\n",
              "      <th>A</th>\n",
              "      <th>B</th>\n",
              "      <th>C</th>\n",
              "    </tr>\n",
              "  </thead>\n",
              "  <tbody>\n",
              "    <tr>\n",
              "      <th>12.6</th>\n",
              "      <td>4</td>\n",
              "      <td>5</td>\n",
              "      <td>6</td>\n",
              "    </tr>\n",
              "    <tr>\n",
              "      <th>4.8</th>\n",
              "      <td>7</td>\n",
              "      <td>8</td>\n",
              "      <td>9</td>\n",
              "    </tr>\n",
              "  </tbody>\n",
              "</table>\n",
              "</div>"
            ],
            "text/plain": [
              "      A  B  C\n",
              "12.6  4  5  6\n",
              "4.8   7  8  9"
            ]
          },
          "execution_count": 29,
          "metadata": {},
          "output_type": "execute_result"
        }
      ],
      "source": [
        "#For slicing rows explicitly\n",
        "df.iloc[1:3,:]"
      ]
    },
    {
      "cell_type": "code",
      "execution_count": null,
      "metadata": {
        "id": "CHjaKXfATAgS",
        "outputId": "37593756-694b-4163-c27b-5f600b64d3b5"
      },
      "outputs": [
        {
          "data": {
            "text/html": [
              "<div>\n",
              "<style>\n",
              "    .dataframe thead tr:only-child th {\n",
              "        text-align: right;\n",
              "    }\n",
              "\n",
              "    .dataframe thead th {\n",
              "        text-align: left;\n",
              "    }\n",
              "\n",
              "    .dataframe tbody tr th {\n",
              "        vertical-align: top;\n",
              "    }\n",
              "</style>\n",
              "<table border=\"1\" class=\"dataframe\">\n",
              "  <thead>\n",
              "    <tr style=\"text-align: right;\">\n",
              "      <th></th>\n",
              "      <th>B</th>\n",
              "      <th>C</th>\n",
              "    </tr>\n",
              "  </thead>\n",
              "  <tbody>\n",
              "    <tr>\n",
              "      <th>a</th>\n",
              "      <td>2</td>\n",
              "      <td>3</td>\n",
              "    </tr>\n",
              "    <tr>\n",
              "      <th>12.6</th>\n",
              "      <td>5</td>\n",
              "      <td>6</td>\n",
              "    </tr>\n",
              "    <tr>\n",
              "      <th>4.8</th>\n",
              "      <td>8</td>\n",
              "      <td>9</td>\n",
              "    </tr>\n",
              "    <tr>\n",
              "      <th>4.8</th>\n",
              "      <td>8</td>\n",
              "      <td>10</td>\n",
              "    </tr>\n",
              "  </tbody>\n",
              "</table>\n",
              "</div>"
            ],
            "text/plain": [
              "      B   C\n",
              "a     2   3\n",
              "12.6  5   6\n",
              "4.8   8   9\n",
              "4.8   8  10"
            ]
          },
          "execution_count": 30,
          "metadata": {},
          "output_type": "execute_result"
        }
      ],
      "source": [
        "#For slicing cols explicitly\n",
        "df.iloc[:,1:4]"
      ]
    },
    {
      "cell_type": "markdown",
      "metadata": {
        "id": "xSWEslPPTAgT"
      },
      "source": [
        "### Conditional Selection"
      ]
    },
    {
      "cell_type": "code",
      "execution_count": null,
      "metadata": {
        "id": "wo9dvUzKTAgT",
        "outputId": "958767a4-61eb-48f4-ccdb-df9816ba1149"
      },
      "outputs": [
        {
          "data": {
            "text/html": [
              "<div>\n",
              "<style>\n",
              "    .dataframe thead tr:only-child th {\n",
              "        text-align: right;\n",
              "    }\n",
              "\n",
              "    .dataframe thead th {\n",
              "        text-align: left;\n",
              "    }\n",
              "\n",
              "    .dataframe tbody tr th {\n",
              "        vertical-align: top;\n",
              "    }\n",
              "</style>\n",
              "<table border=\"1\" class=\"dataframe\">\n",
              "  <thead>\n",
              "    <tr style=\"text-align: right;\">\n",
              "      <th></th>\n",
              "      <th>A</th>\n",
              "      <th>B</th>\n",
              "      <th>C</th>\n",
              "    </tr>\n",
              "  </thead>\n",
              "  <tbody>\n",
              "    <tr>\n",
              "      <th>12.6</th>\n",
              "      <td>4</td>\n",
              "      <td>5</td>\n",
              "      <td>6</td>\n",
              "    </tr>\n",
              "    <tr>\n",
              "      <th>4.8</th>\n",
              "      <td>7</td>\n",
              "      <td>8</td>\n",
              "      <td>9</td>\n",
              "    </tr>\n",
              "    <tr>\n",
              "      <th>4.8</th>\n",
              "      <td>7</td>\n",
              "      <td>8</td>\n",
              "      <td>10</td>\n",
              "    </tr>\n",
              "  </tbody>\n",
              "</table>\n",
              "</div>"
            ],
            "text/plain": [
              "      A  B   C\n",
              "12.6  4  5   6\n",
              "4.8   7  8   9\n",
              "4.8   7  8  10"
            ]
          },
          "execution_count": 31,
          "metadata": {},
          "output_type": "execute_result"
        }
      ],
      "source": [
        "df[df.A >= 4]\n",
        "#df[(df.A>=4) & (df.B<8)]\n",
        "#| for or"
      ]
    },
    {
      "cell_type": "code",
      "execution_count": null,
      "metadata": {
        "id": "6vnLPZ-bTAgT",
        "outputId": "718a8780-6bc6-4112-95b1-c585534b33ba"
      },
      "outputs": [
        {
          "data": {
            "text/html": [
              "<div>\n",
              "<style>\n",
              "    .dataframe thead tr:only-child th {\n",
              "        text-align: right;\n",
              "    }\n",
              "\n",
              "    .dataframe thead th {\n",
              "        text-align: left;\n",
              "    }\n",
              "\n",
              "    .dataframe tbody tr th {\n",
              "        vertical-align: top;\n",
              "    }\n",
              "</style>\n",
              "<table border=\"1\" class=\"dataframe\">\n",
              "  <thead>\n",
              "    <tr style=\"text-align: right;\">\n",
              "      <th></th>\n",
              "      <th>A</th>\n",
              "      <th>B</th>\n",
              "      <th>C</th>\n",
              "    </tr>\n",
              "  </thead>\n",
              "  <tbody>\n",
              "    <tr>\n",
              "      <th>a</th>\n",
              "      <td>1</td>\n",
              "      <td>2</td>\n",
              "      <td>3</td>\n",
              "    </tr>\n",
              "    <tr>\n",
              "      <th>12.6</th>\n",
              "      <td>4</td>\n",
              "      <td>5</td>\n",
              "      <td>6</td>\n",
              "    </tr>\n",
              "    <tr>\n",
              "      <th>4.8</th>\n",
              "      <td>7</td>\n",
              "      <td>8</td>\n",
              "      <td>9</td>\n",
              "    </tr>\n",
              "    <tr>\n",
              "      <th>4.8</th>\n",
              "      <td>7</td>\n",
              "      <td>8</td>\n",
              "      <td>10</td>\n",
              "    </tr>\n",
              "  </tbody>\n",
              "</table>\n",
              "</div>"
            ],
            "text/plain": [
              "      A  B   C\n",
              "a     1  2   3\n",
              "12.6  4  5   6\n",
              "4.8   7  8   9\n",
              "4.8   7  8  10"
            ]
          },
          "execution_count": 32,
          "metadata": {},
          "output_type": "execute_result"
        }
      ],
      "source": [
        "#Selecting values from a DataFrame where a boolean condition is met.\n",
        "df[df>0]"
      ]
    },
    {
      "cell_type": "markdown",
      "metadata": {
        "id": "oQQAFxanTAgU"
      },
      "source": [
        "### Combining Data Frames\n",
        "1. Concatenation\n",
        "2. Merging\n",
        "3. Joining"
      ]
    },
    {
      "cell_type": "markdown",
      "metadata": {
        "id": "M82gZOHhTAgU"
      },
      "source": [
        "#### Lets take two data frames employee1 and employee2"
      ]
    },
    {
      "cell_type": "code",
      "execution_count": null,
      "metadata": {
        "id": "FWmaqpcvTAgV",
        "outputId": "c80834e9-f846-46e0-a8f2-5f1389756fa4"
      },
      "outputs": [
        {
          "data": {
            "text/html": [
              "<div>\n",
              "<style>\n",
              "    .dataframe thead tr:only-child th {\n",
              "        text-align: right;\n",
              "    }\n",
              "\n",
              "    .dataframe thead th {\n",
              "        text-align: left;\n",
              "    }\n",
              "\n",
              "    .dataframe tbody tr th {\n",
              "        vertical-align: top;\n",
              "    }\n",
              "</style>\n",
              "<table border=\"1\" class=\"dataframe\">\n",
              "  <thead>\n",
              "    <tr style=\"text-align: right;\">\n",
              "      <th></th>\n",
              "      <th>Empname</th>\n",
              "      <th>Eno</th>\n",
              "    </tr>\n",
              "  </thead>\n",
              "  <tbody>\n",
              "    <tr>\n",
              "      <th>0</th>\n",
              "      <td>Raja</td>\n",
              "      <td>100</td>\n",
              "    </tr>\n",
              "    <tr>\n",
              "      <th>1</th>\n",
              "      <td>Babu</td>\n",
              "      <td>101</td>\n",
              "    </tr>\n",
              "    <tr>\n",
              "      <th>2</th>\n",
              "      <td>Kumar</td>\n",
              "      <td>102</td>\n",
              "    </tr>\n",
              "    <tr>\n",
              "      <th>3</th>\n",
              "      <td>Karthik</td>\n",
              "      <td>103</td>\n",
              "    </tr>\n",
              "    <tr>\n",
              "      <th>4</th>\n",
              "      <td>Rajesh</td>\n",
              "      <td>104</td>\n",
              "    </tr>\n",
              "    <tr>\n",
              "      <th>5</th>\n",
              "      <td>Raju</td>\n",
              "      <td>105</td>\n",
              "    </tr>\n",
              "  </tbody>\n",
              "</table>\n",
              "</div>"
            ],
            "text/plain": [
              "   Empname  Eno\n",
              "0     Raja  100\n",
              "1     Babu  101\n",
              "2    Kumar  102\n",
              "3  Karthik  103\n",
              "4   Rajesh  104\n",
              "5     Raju  105"
            ]
          },
          "execution_count": 36,
          "metadata": {},
          "output_type": "execute_result"
        }
      ],
      "source": [
        "Eno=[100, 101,102, 103, 104,105]\n",
        "Empname= ['Raja', 'Babu', 'Kumar','Karthik','Rajesh','Raju']\n",
        "Eno_Series = pd.Series(Eno)\n",
        "Empname_Series = pd.Series(Empname)\n",
        "df = { 'Eno': Eno_Series, 'Empname': Empname_Series }\n",
        "employee1 = pd.DataFrame(df)\n",
        "employee1"
      ]
    },
    {
      "cell_type": "code",
      "execution_count": null,
      "metadata": {
        "id": "eCZWCTLRTAgV",
        "outputId": "a684eb6c-e02d-407f-a8ca-f778377d30ea"
      },
      "outputs": [
        {
          "data": {
            "text/html": [
              "<div>\n",
              "<style>\n",
              "    .dataframe thead tr:only-child th {\n",
              "        text-align: right;\n",
              "    }\n",
              "\n",
              "    .dataframe thead th {\n",
              "        text-align: left;\n",
              "    }\n",
              "\n",
              "    .dataframe tbody tr th {\n",
              "        vertical-align: top;\n",
              "    }\n",
              "</style>\n",
              "<table border=\"1\" class=\"dataframe\">\n",
              "  <thead>\n",
              "    <tr style=\"text-align: right;\">\n",
              "      <th></th>\n",
              "      <th>Empname</th>\n",
              "      <th>Eno</th>\n",
              "    </tr>\n",
              "  </thead>\n",
              "  <tbody>\n",
              "    <tr>\n",
              "      <th>0</th>\n",
              "      <td>Jack</td>\n",
              "      <td>106</td>\n",
              "    </tr>\n",
              "    <tr>\n",
              "      <th>1</th>\n",
              "      <td>John</td>\n",
              "      <td>107</td>\n",
              "    </tr>\n",
              "    <tr>\n",
              "      <th>2</th>\n",
              "      <td>Peter</td>\n",
              "      <td>108</td>\n",
              "    </tr>\n",
              "    <tr>\n",
              "      <th>3</th>\n",
              "      <td>David</td>\n",
              "      <td>109</td>\n",
              "    </tr>\n",
              "    <tr>\n",
              "      <th>4</th>\n",
              "      <td>Davis</td>\n",
              "      <td>110</td>\n",
              "    </tr>\n",
              "  </tbody>\n",
              "</table>\n",
              "</div>"
            ],
            "text/plain": [
              "  Empname  Eno\n",
              "0    Jack  106\n",
              "1    John  107\n",
              "2   Peter  108\n",
              "3   David  109\n",
              "4   Davis  110"
            ]
          },
          "execution_count": 37,
          "metadata": {},
          "output_type": "execute_result"
        }
      ],
      "source": [
        "Eno1=[106, 107,108, 109, 110]\n",
        "Empname1= ['Jack', 'John', 'Peter','David','Davis']\n",
        "Eno_Series1 = pd.Series(Eno1)\n",
        "Empname_Series1 = pd.Series(Empname1)\n",
        "df = { 'Eno': Eno_Series1, 'Empname': Empname_Series1 }\n",
        "employee2 = pd.DataFrame(df)\n",
        "employee2"
      ]
    },
    {
      "cell_type": "markdown",
      "metadata": {
        "id": "DVz9BCVqTAgW"
      },
      "source": [
        "#### Concatenation"
      ]
    },
    {
      "cell_type": "code",
      "execution_count": null,
      "metadata": {
        "id": "KrlzRA6cTAgW",
        "outputId": "4a121ed6-c5da-47fd-f6d1-7004bdecbf93"
      },
      "outputs": [
        {
          "data": {
            "text/html": [
              "<div>\n",
              "<style>\n",
              "    .dataframe thead tr:only-child th {\n",
              "        text-align: right;\n",
              "    }\n",
              "\n",
              "    .dataframe thead th {\n",
              "        text-align: left;\n",
              "    }\n",
              "\n",
              "    .dataframe tbody tr th {\n",
              "        vertical-align: top;\n",
              "    }\n",
              "</style>\n",
              "<table border=\"1\" class=\"dataframe\">\n",
              "  <thead>\n",
              "    <tr style=\"text-align: right;\">\n",
              "      <th></th>\n",
              "      <th>Empname</th>\n",
              "      <th>Eno</th>\n",
              "    </tr>\n",
              "  </thead>\n",
              "  <tbody>\n",
              "    <tr>\n",
              "      <th>0</th>\n",
              "      <td>Raja</td>\n",
              "      <td>100</td>\n",
              "    </tr>\n",
              "    <tr>\n",
              "      <th>1</th>\n",
              "      <td>Babu</td>\n",
              "      <td>101</td>\n",
              "    </tr>\n",
              "    <tr>\n",
              "      <th>2</th>\n",
              "      <td>Kumar</td>\n",
              "      <td>102</td>\n",
              "    </tr>\n",
              "    <tr>\n",
              "      <th>3</th>\n",
              "      <td>Karthik</td>\n",
              "      <td>103</td>\n",
              "    </tr>\n",
              "    <tr>\n",
              "      <th>4</th>\n",
              "      <td>Rajesh</td>\n",
              "      <td>104</td>\n",
              "    </tr>\n",
              "    <tr>\n",
              "      <th>5</th>\n",
              "      <td>Raju</td>\n",
              "      <td>105</td>\n",
              "    </tr>\n",
              "    <tr>\n",
              "      <th>6</th>\n",
              "      <td>Jack</td>\n",
              "      <td>106</td>\n",
              "    </tr>\n",
              "    <tr>\n",
              "      <th>7</th>\n",
              "      <td>John</td>\n",
              "      <td>107</td>\n",
              "    </tr>\n",
              "    <tr>\n",
              "      <th>8</th>\n",
              "      <td>Peter</td>\n",
              "      <td>108</td>\n",
              "    </tr>\n",
              "    <tr>\n",
              "      <th>9</th>\n",
              "      <td>David</td>\n",
              "      <td>109</td>\n",
              "    </tr>\n",
              "    <tr>\n",
              "      <th>10</th>\n",
              "      <td>Davis</td>\n",
              "      <td>110</td>\n",
              "    </tr>\n",
              "  </tbody>\n",
              "</table>\n",
              "</div>"
            ],
            "text/plain": [
              "    Empname  Eno\n",
              "0      Raja  100\n",
              "1      Babu  101\n",
              "2     Kumar  102\n",
              "3   Karthik  103\n",
              "4    Rajesh  104\n",
              "5      Raju  105\n",
              "6      Jack  106\n",
              "7      John  107\n",
              "8     Peter  108\n",
              "9     David  109\n",
              "10    Davis  110"
            ]
          },
          "execution_count": 38,
          "metadata": {},
          "output_type": "execute_result"
        }
      ],
      "source": [
        "df_concat = pd.concat([employee1, employee2], ignore_index=True)\n",
        "df_concat"
      ]
    },
    {
      "cell_type": "markdown",
      "metadata": {
        "id": "cIRHamnTTAgX"
      },
      "source": [
        "#### Concatenation with Key Option"
      ]
    },
    {
      "cell_type": "code",
      "execution_count": null,
      "metadata": {
        "id": "HFKZWpweTAgX",
        "outputId": "dc040c32-93fd-482b-9576-de96469ccbd6"
      },
      "outputs": [
        {
          "data": {
            "text/html": [
              "<div>\n",
              "<style>\n",
              "    .dataframe thead tr:only-child th {\n",
              "        text-align: right;\n",
              "    }\n",
              "\n",
              "    .dataframe thead th {\n",
              "        text-align: left;\n",
              "    }\n",
              "\n",
              "    .dataframe tbody tr th {\n",
              "        vertical-align: top;\n",
              "    }\n",
              "</style>\n",
              "<table border=\"1\" class=\"dataframe\">\n",
              "  <thead>\n",
              "    <tr style=\"text-align: right;\">\n",
              "      <th></th>\n",
              "      <th></th>\n",
              "      <th>Empname</th>\n",
              "      <th>Eno</th>\n",
              "    </tr>\n",
              "  </thead>\n",
              "  <tbody>\n",
              "    <tr>\n",
              "      <th rowspan=\"6\" valign=\"top\">Section-A</th>\n",
              "      <th>0</th>\n",
              "      <td>Raja</td>\n",
              "      <td>100</td>\n",
              "    </tr>\n",
              "    <tr>\n",
              "      <th>1</th>\n",
              "      <td>Babu</td>\n",
              "      <td>101</td>\n",
              "    </tr>\n",
              "    <tr>\n",
              "      <th>2</th>\n",
              "      <td>Kumar</td>\n",
              "      <td>102</td>\n",
              "    </tr>\n",
              "    <tr>\n",
              "      <th>3</th>\n",
              "      <td>Karthik</td>\n",
              "      <td>103</td>\n",
              "    </tr>\n",
              "    <tr>\n",
              "      <th>4</th>\n",
              "      <td>Rajesh</td>\n",
              "      <td>104</td>\n",
              "    </tr>\n",
              "    <tr>\n",
              "      <th>5</th>\n",
              "      <td>Raju</td>\n",
              "      <td>105</td>\n",
              "    </tr>\n",
              "    <tr>\n",
              "      <th rowspan=\"5\" valign=\"top\">Section-B</th>\n",
              "      <th>0</th>\n",
              "      <td>Jack</td>\n",
              "      <td>106</td>\n",
              "    </tr>\n",
              "    <tr>\n",
              "      <th>1</th>\n",
              "      <td>John</td>\n",
              "      <td>107</td>\n",
              "    </tr>\n",
              "    <tr>\n",
              "      <th>2</th>\n",
              "      <td>Peter</td>\n",
              "      <td>108</td>\n",
              "    </tr>\n",
              "    <tr>\n",
              "      <th>3</th>\n",
              "      <td>David</td>\n",
              "      <td>109</td>\n",
              "    </tr>\n",
              "    <tr>\n",
              "      <th>4</th>\n",
              "      <td>Davis</td>\n",
              "      <td>110</td>\n",
              "    </tr>\n",
              "  </tbody>\n",
              "</table>\n",
              "</div>"
            ],
            "text/plain": [
              "             Empname  Eno\n",
              "Section-A 0     Raja  100\n",
              "          1     Babu  101\n",
              "          2    Kumar  102\n",
              "          3  Karthik  103\n",
              "          4   Rajesh  104\n",
              "          5     Raju  105\n",
              "Section-B 0     Jack  106\n",
              "          1     John  107\n",
              "          2    Peter  108\n",
              "          3    David  109\n",
              "          4    Davis  110"
            ]
          },
          "execution_count": 39,
          "metadata": {},
          "output_type": "execute_result"
        }
      ],
      "source": [
        "frames_collection = [employee1,employee2]\n",
        "df_concat_keys = pd.concat(frames_collection, keys=['Section-A', 'Section-B'])\n",
        "df_concat_keys"
      ]
    },
    {
      "cell_type": "markdown",
      "metadata": {
        "id": "T1JRrErFTAgY"
      },
      "source": [
        "#### Merging\n",
        "Lets define a new dataframe designation and merge it with employee2"
      ]
    },
    {
      "cell_type": "code",
      "execution_count": null,
      "metadata": {
        "id": "vrEqViBaTAgY",
        "outputId": "55fa8b1f-b9f6-4408-b9ba-085c40ee12a8"
      },
      "outputs": [
        {
          "data": {
            "text/html": [
              "<div>\n",
              "<style>\n",
              "    .dataframe thead tr:only-child th {\n",
              "        text-align: right;\n",
              "    }\n",
              "\n",
              "    .dataframe thead th {\n",
              "        text-align: left;\n",
              "    }\n",
              "\n",
              "    .dataframe tbody tr th {\n",
              "        vertical-align: top;\n",
              "    }\n",
              "</style>\n",
              "<table border=\"1\" class=\"dataframe\">\n",
              "  <thead>\n",
              "    <tr style=\"text-align: right;\">\n",
              "      <th></th>\n",
              "      <th>Designation</th>\n",
              "      <th>Eno</th>\n",
              "    </tr>\n",
              "  </thead>\n",
              "  <tbody>\n",
              "    <tr>\n",
              "      <th>0</th>\n",
              "      <td>Programmer</td>\n",
              "      <td>106</td>\n",
              "    </tr>\n",
              "    <tr>\n",
              "      <th>1</th>\n",
              "      <td>Architect</td>\n",
              "      <td>107</td>\n",
              "    </tr>\n",
              "    <tr>\n",
              "      <th>2</th>\n",
              "      <td>Project Manager</td>\n",
              "      <td>108</td>\n",
              "    </tr>\n",
              "    <tr>\n",
              "      <th>3</th>\n",
              "      <td>Data Scientists</td>\n",
              "      <td>109</td>\n",
              "    </tr>\n",
              "    <tr>\n",
              "      <th>4</th>\n",
              "      <td>Business Analyst</td>\n",
              "      <td>110</td>\n",
              "    </tr>\n",
              "  </tbody>\n",
              "</table>\n",
              "</div>"
            ],
            "text/plain": [
              "        Designation  Eno\n",
              "0        Programmer  106\n",
              "1         Architect  107\n",
              "2   Project Manager  108\n",
              "3   Data Scientists  109\n",
              "4  Business Analyst  110"
            ]
          },
          "execution_count": 40,
          "metadata": {},
          "output_type": "execute_result"
        }
      ],
      "source": [
        "Eno1=[106, 107,108, 109, 110]\n",
        "Designation= ['Programmer', 'Architect', 'Project Manager','Data Scientists','Business Analyst']\n",
        "Eno_Series1 = pd.Series(Eno1)\n",
        "Designation_Series1 = pd.Series(Designation)\n",
        "df = { 'Eno': Eno_Series1, 'Designation': Designation_Series1 }\n",
        "Designation_df = pd.DataFrame(df)\n",
        "Designation_df"
      ]
    },
    {
      "cell_type": "code",
      "execution_count": null,
      "metadata": {
        "id": "2rE6d1LsTAgZ",
        "outputId": "362daa3e-fa02-4095-d43e-053d8e9cb41c"
      },
      "outputs": [
        {
          "data": {
            "text/html": [
              "<div>\n",
              "<style>\n",
              "    .dataframe thead tr:only-child th {\n",
              "        text-align: right;\n",
              "    }\n",
              "\n",
              "    .dataframe thead th {\n",
              "        text-align: left;\n",
              "    }\n",
              "\n",
              "    .dataframe tbody tr th {\n",
              "        vertical-align: top;\n",
              "    }\n",
              "</style>\n",
              "<table border=\"1\" class=\"dataframe\">\n",
              "  <thead>\n",
              "    <tr style=\"text-align: right;\">\n",
              "      <th></th>\n",
              "      <th>Empname</th>\n",
              "      <th>Eno</th>\n",
              "      <th>Designation</th>\n",
              "    </tr>\n",
              "  </thead>\n",
              "  <tbody>\n",
              "    <tr>\n",
              "      <th>0</th>\n",
              "      <td>Jack</td>\n",
              "      <td>106</td>\n",
              "      <td>Programmer</td>\n",
              "    </tr>\n",
              "    <tr>\n",
              "      <th>1</th>\n",
              "      <td>John</td>\n",
              "      <td>107</td>\n",
              "      <td>Architect</td>\n",
              "    </tr>\n",
              "    <tr>\n",
              "      <th>2</th>\n",
              "      <td>Peter</td>\n",
              "      <td>108</td>\n",
              "      <td>Project Manager</td>\n",
              "    </tr>\n",
              "    <tr>\n",
              "      <th>3</th>\n",
              "      <td>David</td>\n",
              "      <td>109</td>\n",
              "      <td>Data Scientists</td>\n",
              "    </tr>\n",
              "    <tr>\n",
              "      <th>4</th>\n",
              "      <td>Davis</td>\n",
              "      <td>110</td>\n",
              "      <td>Business Analyst</td>\n",
              "    </tr>\n",
              "  </tbody>\n",
              "</table>\n",
              "</div>"
            ],
            "text/plain": [
              "  Empname  Eno       Designation\n",
              "0    Jack  106        Programmer\n",
              "1    John  107         Architect\n",
              "2   Peter  108   Project Manager\n",
              "3   David  109   Data Scientists\n",
              "4   Davis  110  Business Analyst"
            ]
          },
          "execution_count": 41,
          "metadata": {},
          "output_type": "execute_result"
        }
      ],
      "source": [
        "df_merge_columns = pd.merge(employee2, Designation_df, on='Eno')\n",
        "df_merge_columns"
      ]
    },
    {
      "cell_type": "markdown",
      "metadata": {
        "id": "ahYx-ugfTAga"
      },
      "source": [
        "### Join Oparations"
      ]
    },
    {
      "cell_type": "code",
      "execution_count": null,
      "metadata": {
        "id": "zDkSSO08TAga",
        "outputId": "6c10326b-d5f9-4490-ec08-9f77b978b372"
      },
      "outputs": [
        {
          "name": "stdout",
          "output_type": "stream",
          "text": [
            "    Ename0  Eno\n",
            "0    David  100\n",
            "1     John  101\n",
            "2      Raj  102\n",
            "3     Jack  103\n",
            "4  Shantha  104 \n",
            "###########################\n",
            "     Designation  Eno  Salary\n",
            "0     Developer  100    1000\n",
            "1  Sr.Developer  101    1200\n",
            "2  Project Lead  102    1500\n",
            "3            PM  103    1750\n",
            "4            SM  105    2000\n"
          ]
        }
      ],
      "source": [
        "#Defining two dataframes\n",
        "\n",
        "df1 = pd.DataFrame({'Eno': [100,101,102,103,104],'Ename0': ['David', 'John', 'Raj', 'Jack','Shantha']})\n",
        "\n",
        "df2 = pd.DataFrame({'Eno': [100,101,102,103,105],'Salary': [1000, 1200, 1500, 1750,2000],\n",
        "                                       'Designation': ['Developer', 'Sr.Developer', 'Project Lead', 'PM','SM']})\n",
        "\n",
        "print(df1,\"\\n###########################\\n\",df2)"
      ]
    },
    {
      "cell_type": "markdown",
      "metadata": {
        "id": "lXwh3DmSTAgb"
      },
      "source": [
        "#### Simple Join, By default, it is left Join"
      ]
    },
    {
      "cell_type": "code",
      "execution_count": null,
      "metadata": {
        "id": "1eV7_TRfTAgb",
        "outputId": "145cd760-124c-43e9-c5fc-87c96151e2d9"
      },
      "outputs": [
        {
          "data": {
            "text/html": [
              "<div>\n",
              "<style>\n",
              "    .dataframe thead tr:only-child th {\n",
              "        text-align: right;\n",
              "    }\n",
              "\n",
              "    .dataframe thead th {\n",
              "        text-align: left;\n",
              "    }\n",
              "\n",
              "    .dataframe tbody tr th {\n",
              "        vertical-align: top;\n",
              "    }\n",
              "</style>\n",
              "<table border=\"1\" class=\"dataframe\">\n",
              "  <thead>\n",
              "    <tr style=\"text-align: right;\">\n",
              "      <th></th>\n",
              "      <th>Ename0</th>\n",
              "      <th>Eno_df1</th>\n",
              "      <th>Designation</th>\n",
              "      <th>Eno_df2</th>\n",
              "      <th>Salary</th>\n",
              "    </tr>\n",
              "  </thead>\n",
              "  <tbody>\n",
              "    <tr>\n",
              "      <th>0</th>\n",
              "      <td>David</td>\n",
              "      <td>100</td>\n",
              "      <td>Developer</td>\n",
              "      <td>100</td>\n",
              "      <td>1000</td>\n",
              "    </tr>\n",
              "    <tr>\n",
              "      <th>1</th>\n",
              "      <td>John</td>\n",
              "      <td>101</td>\n",
              "      <td>Sr.Developer</td>\n",
              "      <td>101</td>\n",
              "      <td>1200</td>\n",
              "    </tr>\n",
              "    <tr>\n",
              "      <th>2</th>\n",
              "      <td>Raj</td>\n",
              "      <td>102</td>\n",
              "      <td>Project Lead</td>\n",
              "      <td>102</td>\n",
              "      <td>1500</td>\n",
              "    </tr>\n",
              "    <tr>\n",
              "      <th>3</th>\n",
              "      <td>Jack</td>\n",
              "      <td>103</td>\n",
              "      <td>PM</td>\n",
              "      <td>103</td>\n",
              "      <td>1750</td>\n",
              "    </tr>\n",
              "    <tr>\n",
              "      <th>4</th>\n",
              "      <td>Shantha</td>\n",
              "      <td>104</td>\n",
              "      <td>SM</td>\n",
              "      <td>105</td>\n",
              "      <td>2000</td>\n",
              "    </tr>\n",
              "  </tbody>\n",
              "</table>\n",
              "</div>"
            ],
            "text/plain": [
              "    Ename0  Eno_df1   Designation  Eno_df2  Salary\n",
              "0    David      100     Developer      100    1000\n",
              "1     John      101  Sr.Developer      101    1200\n",
              "2      Raj      102  Project Lead      102    1500\n",
              "3     Jack      103            PM      103    1750\n",
              "4  Shantha      104            SM      105    2000"
            ]
          },
          "execution_count": 47,
          "metadata": {},
          "output_type": "execute_result"
        }
      ],
      "source": [
        "df1.join(df2, lsuffix='_df1', rsuffix='_df2')"
      ]
    },
    {
      "cell_type": "markdown",
      "metadata": {
        "id": "vkHs206zTAgc"
      },
      "source": [
        "#### Other Joins"
      ]
    },
    {
      "cell_type": "code",
      "execution_count": null,
      "metadata": {
        "id": "v5mBebauTAgc",
        "outputId": "90b17ba8-781e-4fd1-98b6-6e066d042a41"
      },
      "outputs": [
        {
          "name": "stdout",
          "output_type": "stream",
          "text": [
            "  Ename0  Eno   Designation  Salary\n",
            "0  David  100     Developer    1000\n",
            "1   John  101  Sr.Developer    1200\n",
            "2    Raj  102  Project Lead    1500\n",
            "3   Jack  103            PM    1750\n",
            "\n",
            "##########################\n",
            "\n",
            "Full Outer\n",
            "    Ename0  Eno   Designation  Salary\n",
            "0    David  100     Developer  1000.0\n",
            "1     John  101  Sr.Developer  1200.0\n",
            "2      Raj  102  Project Lead  1500.0\n",
            "3     Jack  103            PM  1750.0\n",
            "4  Shantha  104           NaN     NaN\n",
            "5      NaN  105            SM  2000.0\n",
            "\n",
            "##########################\n",
            "\n",
            "Left Outer\n",
            "    Ename0  Eno   Designation  Salary\n",
            "0    David  100     Developer  1000.0\n",
            "1     John  101  Sr.Developer  1200.0\n",
            "2      Raj  102  Project Lead  1500.0\n",
            "3     Jack  103            PM  1750.0\n",
            "4  Shantha  104           NaN     NaN\n",
            "\n",
            "##########################\n",
            "\n",
            "Right Outer\n",
            "  Ename0  Eno   Designation  Salary\n",
            "0  David  100     Developer    1000\n",
            "1   John  101  Sr.Developer    1200\n",
            "2    Raj  102  Project Lead    1500\n",
            "3   Jack  103            PM    1750\n",
            "4    NaN  105            SM    2000\n",
            "\n",
            "##########################\n",
            "\n",
            "Inner \n",
            "  Ename0  Eno   Designation  Salary\n",
            "0  David  100     Developer    1000\n",
            "1   John  101  Sr.Developer    1200\n",
            "2    Raj  102  Project Lead    1500\n",
            "3   Jack  103            PM    1750\n",
            "\n",
            "##########################\n",
            "\n"
          ]
        }
      ],
      "source": [
        "df1 = pd.DataFrame({'Eno': [100,101,102,103,104],'Ename0': ['David', 'John', 'Raj', 'Jack','Shantha']})\n",
        "\n",
        "df2 = pd.DataFrame({'Eno': [100,101,102,103,105],'Salary': [1000, 1200, 1500, 1750,2000],\n",
        "                                       'Designation': ['Developer', 'Sr.Developer', 'Project Lead', 'PM','SM']})\n",
        "#Merging two dataframe using common data with common column available in both dataframe\n",
        "\n",
        "df_join = pd.merge(df1, df2, left_on='Eno', right_on='Eno')\n",
        "print(df_join)\n",
        "print(\"\\n##########################\\n\")\n",
        "\n",
        "# Full Outer-\"join\n",
        "print(\"Full Outer\")\n",
        "df_outer = pd.merge(df1, df2, on='Eno', how='outer')\n",
        "print(df_outer)\n",
        "print(\"\\n##########################\\n\")\n",
        "\n",
        "#Left-Outer-join\n",
        "print(\"Left Outer\")\n",
        "df_left = pd.merge(df1, df2, on='Eno', how='left')\n",
        "print(df_left)\n",
        "print(\"\\n##########################\\n\")\n",
        "\n",
        "#Right-Outer-join\n",
        "print(\"Right Outer\")\n",
        "df_right = pd.merge(df1, df2, on='Eno', how='right')\n",
        "print(df_right)\n",
        "print(\"\\n##########################\\n\")\n",
        "\n",
        "#Inner-join\n",
        "print(\"Inner \")\n",
        "df_inner = pd.merge(df1, df2, on='Eno', how='inner')\n",
        "print(df_inner)\n",
        "print(\"\\n##########################\\n\")"
      ]
    },
    {
      "cell_type": "code",
      "execution_count": null,
      "metadata": {
        "id": "q7RWsFaqTAgd"
      },
      "outputs": [],
      "source": []
    }
  ],
  "metadata": {
    "kernelspec": {
      "display_name": "Python 3",
      "language": "python",
      "name": "python3"
    },
    "language_info": {
      "codemirror_mode": {
        "name": "ipython",
        "version": 3
      },
      "file_extension": ".py",
      "mimetype": "text/x-python",
      "name": "python",
      "nbconvert_exporter": "python",
      "pygments_lexer": "ipython3",
      "version": "3.6.7"
    },
    "colab": {
      "provenance": []
    }
  },
  "nbformat": 4,
  "nbformat_minor": 0
}