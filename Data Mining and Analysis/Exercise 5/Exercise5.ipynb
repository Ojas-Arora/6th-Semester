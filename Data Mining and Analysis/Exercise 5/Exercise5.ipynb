{
  "nbformat": 4,
  "nbformat_minor": 0,
  "metadata": {
    "colab": {
      "provenance": []
    },
    "kernelspec": {
      "name": "python3",
      "display_name": "Python 3"
    },
    "language_info": {
      "name": "python"
    }
  },
  "cells": [
    {
      "cell_type": "markdown",
      "source": [
        "1.Create one hot encoding of an array."
      ],
      "metadata": {
        "id": "LTSr8UzwmVxr"
      }
    },
    {
      "cell_type": "code",
      "execution_count": 1,
      "metadata": {
        "colab": {
          "base_uri": "https://localhost:8080/"
        },
        "id": "6jeDJrROlt1X",
        "outputId": "8f52903f-26f7-4293-8af8-028f39864681"
      },
      "outputs": [
        {
          "output_type": "stream",
          "name": "stdout",
          "text": [
            "Enter integers separated by spaces: 2 3  2 2 2 1\n",
            "One Hot Encoded Array:\n",
            " [[0. 1. 0.]\n",
            " [0. 0. 1.]\n",
            " [0. 1. 0.]\n",
            " [0. 1. 0.]\n",
            " [0. 1. 0.]\n",
            " [1. 0. 0.]]\n"
          ]
        }
      ],
      "source": [
        "import numpy as np\n",
        "\n",
        "arr = input(\"Enter integers separated by spaces: \").split()\n",
        "arr = [int(x) for x in arr]\n",
        "\n",
        "unique_classes = np.unique(arr)\n",
        "encoded_array = np.zeros((len(arr), len(unique_classes)))\n",
        "\n",
        "for i in range(len(arr)):\n",
        "    encoded_array[i, np.where(unique_classes == arr[i])] = 1\n",
        "\n",
        "print(\"One Hot Encoded Array:\\n\", encoded_array)\n"
      ]
    },
    {
      "cell_type": "markdown",
      "source": [
        "2.Drop all missing values from an array Input: np.array([1,2,3,np.nan,5,6,7,np.nan]) Desired Output: array([ 1.,2.,3.,5.,6.,7.])"
      ],
      "metadata": {
        "id": "oaf34SsRml1f"
      }
    },
    {
      "cell_type": "code",
      "source": [
        "import numpy as np\n",
        "\n",
        "arr = input(\"Enter values separated by spaces (NaN for missing): \").split()\n",
        "arr = [float(x) if x.lower() != 'nan' else np.nan for x in arr]\n",
        "\n",
        "arr = np.array(arr)\n",
        "cleaned_array = arr[~np.isnan(arr)]\n",
        "\n",
        "print(\"Cleaned Array:\", cleaned_array)\n"
      ],
      "metadata": {
        "colab": {
          "base_uri": "https://localhost:8080/"
        },
        "id": "U_mbelyPmuNG",
        "outputId": "cb0b58db-eb1c-4e2e-f961-a1cc26a4b8c4"
      },
      "execution_count": 3,
      "outputs": [
        {
          "output_type": "stream",
          "name": "stdout",
          "text": [
            "Enter values separated by spaces (NaN for missing): 1 2 3 NaN 5 6 7 NaN\n",
            "Cleaned Array: [1. 2. 3. 5. 6. 7.]\n"
          ]
        }
      ]
    },
    {
      "cell_type": "markdown",
      "source": [
        "3.Find Index of Local maxima from an array. Input: a = np.array([1, 3, 7, 1, 2, 6, 0, 1]) Desired Output: array([2, 5])"
      ],
      "metadata": {
        "id": "c_r8qh7Snh_r"
      }
    },
    {
      "cell_type": "code",
      "source": [
        "import numpy as np\n",
        "\n",
        "arr = input(\"Enter integers separated by spaces: \").split()\n",
        "arr = np.array([int(x) for x in arr])\n",
        "\n",
        "local_maxima_indices = np.where((arr[1:-1] > arr[:-2]) & (arr[1:-1] > arr[2:]))[0] + 1\n",
        "\n",
        "print(\"Indices of Local Maxima:\", local_maxima_indices)\n"
      ],
      "metadata": {
        "colab": {
          "base_uri": "https://localhost:8080/"
        },
        "id": "9xcmUK8LnmX7",
        "outputId": "b0f92b0a-cf06-4cb7-d8d4-cb4f27a0bd92"
      },
      "execution_count": 4,
      "outputs": [
        {
          "output_type": "stream",
          "name": "stdout",
          "text": [
            "Enter integers separated by spaces: 1 3 7 1 2 6 0 1\n",
            "Indices of Local Maxima: [2 5]\n"
          ]
        }
      ]
    },
    {
      "cell_type": "markdown",
      "source": [
        "4.From the given 1d array arr, generate a 2d matrix using strides,\n",
        "For example for an array ([ 0,  1,  2,  3,  4,  5,  6,  7,  8,  9, 10, 11, 12, 13, 14])with a window length of w=4 and strides of s=2, like [[0,1,2,3], [2,3,4,5], [4,5,6,7]..]\n",
        "w and s will be provided by user\n",
        "Calculate the moving average."
      ],
      "metadata": {
        "id": "OfTqgj4doNTS"
      }
    },
    {
      "cell_type": "code",
      "source": [
        "import numpy as np\n",
        "\n",
        "def generate_stride_matrix_and_moving_average(arr, window_length, stride):\n",
        "    print(f\"\\nInput Array: {arr}\")\n",
        "\n",
        "    shape = ((len(arr) - window_length) // stride + 1, window_length)\n",
        "    strides = (arr.strides[0] * stride, arr.strides[0])\n",
        "    strided_matrix = np.lib.stride_tricks.as_strided(arr, shape=shape, strides=strides)\n",
        "\n",
        "    print(\"\\nGenerated Strided Matrix:\")\n",
        "    print(strided_matrix)\n",
        "\n",
        "    moving_averages = np.mean(strided_matrix, axis=1)\n",
        "\n",
        "    print(\"\\nMoving Averages:\")\n",
        "    print(moving_averages)\n",
        "\n",
        "arr = list(map(int, input(\"Enter the array elements separated by space: \").split()))\n",
        "arr = np.array(arr)\n",
        "window_length = int(input(\"Enter window length: \"))\n",
        "stride = int(input(\"Enter stride value: \"))\n",
        "\n",
        "generate_stride_matrix_and_moving_average(arr, window_length, stride)\n"
      ],
      "metadata": {
        "colab": {
          "base_uri": "https://localhost:8080/"
        },
        "id": "j1u8px19od87",
        "outputId": "122e4489-cdde-4edd-d692-a3929c4fd009"
      },
      "execution_count": 5,
      "outputs": [
        {
          "output_type": "stream",
          "name": "stdout",
          "text": [
            "Enter the array elements separated by space: 0 1 2 3 4 5 6 7 8 9 10 11 12 13 14\n",
            "Enter window length: 4\n",
            "Enter stride value: 2\n",
            "\n",
            "Input Array: [ 0  1  2  3  4  5  6  7  8  9 10 11 12 13 14]\n",
            "\n",
            "Generated Strided Matrix:\n",
            "[[ 0  1  2  3]\n",
            " [ 2  3  4  5]\n",
            " [ 4  5  6  7]\n",
            " [ 6  7  8  9]\n",
            " [ 8  9 10 11]\n",
            " [10 11 12 13]]\n",
            "\n",
            "Moving Averages:\n",
            "[ 1.5  3.5  5.5  7.5  9.5 11.5]\n"
          ]
        }
      ]
    }
  ]
}