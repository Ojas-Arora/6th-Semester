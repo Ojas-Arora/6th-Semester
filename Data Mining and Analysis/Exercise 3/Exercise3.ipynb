{
  "nbformat": 4,
  "nbformat_minor": 0,
  "metadata": {
    "colab": {
      "provenance": []
    },
    "kernelspec": {
      "name": "python3",
      "display_name": "Python 3"
    },
    "language_info": {
      "name": "python"
    }
  },
  "cells": [
    {
      "cell_type": "code",
      "execution_count": 2,
      "metadata": {
        "colab": {
          "base_uri": "https://localhost:8080/"
        },
        "id": "EDuEXVk0Lj52",
        "outputId": "a141088f-6b7f-4615-b989-587015e5236b"
      },
      "outputs": [
        {
          "output_type": "stream",
          "name": "stdout",
          "text": [
            "Enter the number of tuples: 5\n",
            "Enter name, age, height (comma-separated): Tom,19,80\n",
            "Enter name, age, height (comma-separated): John,20,90\n",
            "Enter name, age, height (comma-separated): Jony,17,91\n",
            "Enter name, age, height (comma-separated): Jony,17,93\n",
            "Enter name, age, height (comma-separated): Json,21,85\n",
            "[('John', '20', '90'), ('Jony', '17', '91'), ('Jony', '17', '93'), ('Json', '21', '85'), ('Tom', '19', '80')]\n"
          ]
        }
      ],
      "source": [
        "# Question 1: You are required to write a program to sort the (name, age, height) tuples by ascending order where name is string, age and height are numbers.\n",
        "# The tuples are input by console. The sort criteria is: 1: Sort based on name; 2: Then sort based on age; 3: Then sort by score. The priority is that name > age > score.\n",
        "\n",
        "n = int(input(\"Enter the number of tuples: \"))\n",
        "data = []\n",
        "\n",
        "for _ in range(n):\n",
        "    entry = input(\"Enter name, age, height (comma-separated): \")\n",
        "    name, age, height = entry.split(\",\")\n",
        "    data.append((name.strip(), int(age.strip()), int(height.strip())))\n",
        "\n",
        "sorted_data = sorted(data, key=lambda x: (x[0], x[1], x[2]))\n",
        "\n",
        "output = [(name, str(age), str(height)) for name, age, height in sorted_data]\n",
        "\n",
        "print(output)\n"
      ]
    },
    {
      "cell_type": "code",
      "source": [
        "# Question 2: Calculate Word Frequencies. Take a set of sentences in a string as an input. Count each unique occurrence of a word and calculate frequency of occurrence and store in a dictionary.\n",
        "# Produce a frequency table.\n",
        "\n",
        "text = input(\"Enter a set of sentences: \")\n",
        "\n",
        "words = text.lower().split()\n",
        "frequency_table = {}\n",
        "\n",
        "for word in words:\n",
        "    word = word.strip('.,!?\"')\n",
        "    if word in frequency_table:\n",
        "        frequency_table[word] += 1\n",
        "    else:\n",
        "        frequency_table[word] = 1\n",
        "\n",
        "print(\"Word Frequency Table:\")\n",
        "for word, frequency in frequency_table.items():\n",
        "    print(f\"{word}: {frequency}\")"
      ],
      "metadata": {
        "colab": {
          "base_uri": "https://localhost:8080/"
        },
        "id": "uCYKzca_MRO4",
        "outputId": "741b5090-fb69-4797-cd2a-6616ab1af446"
      },
      "execution_count": 4,
      "outputs": [
        {
          "output_type": "stream",
          "name": "stdout",
          "text": [
            "Enter a set of sentences: I love programming. Programming is fun and challenging.\n",
            "Word Frequency Table:\n",
            "i: 1\n",
            "love: 1\n",
            "programming: 2\n",
            "is: 1\n",
            "fun: 1\n",
            "and: 1\n",
            "challenging: 1\n"
          ]
        }
      ]
    },
    {
      "cell_type": "code",
      "source": [
        "# Question 3: Result Calculation. Create a dictionary and a list\n",
        "# Find total marks of each students and display full name of student with total marks secured.\n",
        "\n",
        "students = {\n",
        "    'UE183001': 'Avish', 'UE183002': 'Bhavya', 'UE183003': 'Tanya',\n",
        "    'UE183004': 'Rohan', 'UE183005': 'Nisha', 'UE183006': 'Amit',\n",
        "    'UE183007': 'Simran', 'UE183008': 'Kunal', 'UE183009': 'Pooja', 'UE183010': 'Harsh'\n",
        "}\n",
        "\n",
        "marks = [\n",
        "    ('UE183001', 'CS', 94), ('UE183002', 'CS', 64), ('UE183001', 'RV', 94),\n",
        "    ('UE183002', 'CS', 74), ('UE183003', 'CS', 64), ('UE183004', 'RV', 85),\n",
        "    ('UE183005', 'CS', 76), ('UE183006', 'RV', 88), ('UE183007', 'CS', 91),\n",
        "    ('UE183008', 'RV', 79), ('UE183009', 'CS', 83), ('UE183010', 'RV', 67)\n",
        "]\n",
        "\n",
        "student_total_marks = {}\n",
        "\n",
        "for student_id, subject, mark in marks:\n",
        "    if student_id in student_total_marks:\n",
        "        student_total_marks[student_id] += mark\n",
        "    else:\n",
        "        student_total_marks[student_id] = mark\n",
        "print(\"Student Total Marks:\")\n",
        "for student_id, total_marks in student_total_marks.items():\n",
        "    student_name = students.get(student_id, \"Unknown\")\n",
        "    print(f\"{student_name} ({student_id}): {total_marks}\")\n"
      ],
      "metadata": {
        "colab": {
          "base_uri": "https://localhost:8080/"
        },
        "id": "7g5LBtjhN_rK",
        "outputId": "0cb24598-c843-4078-f4ee-cbee2f874108"
      },
      "execution_count": 3,
      "outputs": [
        {
          "output_type": "stream",
          "name": "stdout",
          "text": [
            "Student Total Marks:\n",
            "Avish (UE183001): 188\n",
            "Bhavya (UE183002): 138\n",
            "Tanya (UE183003): 64\n",
            "Rohan (UE183004): 85\n",
            "Nisha (UE183005): 76\n",
            "Amit (UE183006): 88\n",
            "Simran (UE183007): 91\n",
            "Kunal (UE183008): 79\n",
            "Pooja (UE183009): 83\n",
            "Harsh (UE183010): 67\n"
          ]
        }
      ]
    },
    {
      "cell_type": "code",
      "source": [
        "# Question 4: A date of the form 8-MAR-85 includes the name of the month, which must be translated to a number. Create a dict suitable for decoding month names to numbers.\n",
        "# Create a function which uses string operations to split the date into 3 items using the \"-\" character. Translate the month, correct the year to include all of the digits.\n",
        "# The function will accept a date in the \"dd-MMM-yy\" format and respond with a tuple of ( y , m , d ).\n",
        "\n",
        "month_to_number = {\n",
        "    \"JAN\": 1, \"FEB\": 2, \"MAR\": 3, \"APR\": 4,\n",
        "    \"MAY\": 5, \"JUN\": 6, \"JUL\": 7, \"AUG\": 8,\n",
        "    \"SEP\": 9, \"OCT\": 10, \"NOV\": 11, \"DEC\": 12\n",
        "}\n",
        "\n",
        "date_str = input(\"Enter date in dd-MMM-yy format: \")\n",
        "day, month_abbr, year = date_str.split('-')\n",
        "\n",
        "year = int(year)\n",
        "if year < 100:\n",
        "    year += 1900 if year >= 85 else 2000\n",
        "\n",
        "month = month_to_number[month_abbr.upper()]\n",
        "print(f\"Decoded date: ({year}, {month}, {int(day)})\")\n"
      ],
      "metadata": {
        "colab": {
          "base_uri": "https://localhost:8080/"
        },
        "id": "k2vrvr9IVq3B",
        "outputId": "f5c03aec-70be-436e-d52f-693c5e4d3fee"
      },
      "execution_count": 9,
      "outputs": [
        {
          "output_type": "stream",
          "name": "stdout",
          "text": [
            "Enter date in dd-MMM-yy format: 14-JUL-04\n",
            "Decoded date: (2004, 7, 14)\n"
          ]
        }
      ]
    },
    {
      "cell_type": "code",
      "source": [
        "# Question 5: Dice Odds. There are 36 possible combinations of two dice. A simple pair of loops over range(6)+1 will enumerate all combinations.\n",
        "# The sum of the two dice is more interesting than the actual combination. Create a dict of all combinations, using the sum of the two dice as the key.\n",
        "# Each value in the dict should be a list of tuples; each tuple has the value of two dice.\n",
        "d = {}\n",
        "\n",
        "for d1 in range(1, 7):\n",
        "    for d2 in range(1, 7):\n",
        "        sum_dice = d1 + d2\n",
        "        new_tuple = (d1, d2)\n",
        "        d.setdefault(sum_dice, []).append(new_tuple)\n",
        "\n",
        "for sum_dice, combinations in d.items():\n",
        "    print(f\"Sum {sum_dice}: {combinations}\")\n"
      ],
      "metadata": {
        "colab": {
          "base_uri": "https://localhost:8080/"
        },
        "id": "QJrp8UOPZBZP",
        "outputId": "731d80b4-3b6a-4f2d-834f-af6ad5a897e6"
      },
      "execution_count": 2,
      "outputs": [
        {
          "output_type": "stream",
          "name": "stdout",
          "text": [
            "Sum 2: [(1, 1)]\n",
            "Sum 3: [(1, 2), (2, 1)]\n",
            "Sum 4: [(1, 3), (2, 2), (3, 1)]\n",
            "Sum 5: [(1, 4), (2, 3), (3, 2), (4, 1)]\n",
            "Sum 6: [(1, 5), (2, 4), (3, 3), (4, 2), (5, 1)]\n",
            "Sum 7: [(1, 6), (2, 5), (3, 4), (4, 3), (5, 2), (6, 1)]\n",
            "Sum 8: [(2, 6), (3, 5), (4, 4), (5, 3), (6, 2)]\n",
            "Sum 9: [(3, 6), (4, 5), (5, 4), (6, 3)]\n",
            "Sum 10: [(4, 6), (5, 5), (6, 4)]\n",
            "Sum 11: [(5, 6), (6, 5)]\n",
            "Sum 12: [(6, 6)]\n"
          ]
        }
      ]
    }
  ]
}