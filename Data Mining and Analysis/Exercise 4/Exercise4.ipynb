{
  "nbformat": 4,
  "nbformat_minor": 0,
  "metadata": {
    "colab": {
      "provenance": []
    },
    "kernelspec": {
      "name": "python3",
      "display_name": "Python 3"
    },
    "language_info": {
      "name": "python"
    }
  },
  "cells": [
    {
      "cell_type": "code",
      "execution_count": 4,
      "metadata": {
        "colab": {
          "base_uri": "https://localhost:8080/"
        },
        "id": "yNt2YSTpTMta",
        "outputId": "94a520d9-8592-4b3b-e373-d4429e34057e"
      },
      "outputs": [
        {
          "output_type": "stream",
          "name": "stdout",
          "text": [
            "Enter elements of the array separated by space: 0\n",
            "Zero values present at positions: [0]\n"
          ]
        }
      ],
      "source": [
        "# 1.Create a function to check whether numpy array has Zero values or not.\n",
        "import numpy as np\n",
        "\n",
        "arr = np.array([int(x) for x in input(\"Enter elements of the array separated by space: \").strip().split()])\n",
        "zero_positions = np.where(arr == 0)[0]\n",
        "if zero_positions.size > 0:\n",
        "    print(f\"Zero values present at positions: {zero_positions.tolist()}\")\n",
        "else:\n",
        "    print(\"No zero values present\")"
      ]
    },
    {
      "cell_type": "code",
      "source": [
        "# 2.Consider an array contains marks of students. Find the median and mean of students who got passing marks.\n",
        "import numpy as np\n",
        "\n",
        "arr = np.array([int(x) for x in input(\"Enter marks of students separated by space: \").strip().split()])\n",
        "\n",
        "passing_marks = arr[arr >= 40]\n",
        "\n",
        "if passing_marks.size > 0:\n",
        "    median_marks = np.median(passing_marks)\n",
        "    mean_marks = np.mean(passing_marks)\n",
        "    print(f\"Median of passing marks: {median_marks}\")\n",
        "    print(f\"Mean of passing marks: {mean_marks}\")\n",
        "else:\n",
        "    print(\"No students with passing marks.\")"
      ],
      "metadata": {
        "colab": {
          "base_uri": "https://localhost:8080/"
        },
        "id": "CbSIk-xeVx3L",
        "outputId": "212eca86-55a8-40ba-d0ce-12108bbcbbe6"
      },
      "execution_count": 9,
      "outputs": [
        {
          "output_type": "stream",
          "name": "stdout",
          "text": [
            "Enter marks of students separated by space: 45 50 10 12\n",
            "Median of passing marks: 47.5\n",
            "Mean of passing marks: 47.5\n"
          ]
        }
      ]
    },
    {
      "cell_type": "code",
      "source": [
        "# 3.Consider an array containing date of birth of students (Use np.datetime64('2018-02-01')). Find the age of all students. If age is 18 label it First, if it is 19, label it Second, if it is 20, label it Third, if it is 21, label it Fourth.\n",
        "import numpy as np\n",
        "from datetime import datetime\n",
        "\n",
        "dob_array = np.array([\n",
        "    np.datetime64('2005-02-01'),\n",
        "    np.datetime64('2004-06-15'),\n",
        "    np.datetime64('2003-09-10'),\n",
        "    np.datetime64('2002-12-05')\n",
        "])\n",
        "\n",
        "current_date = np.datetime64(datetime.now().date())\n",
        "\n",
        "ages = (current_date - dob_array).astype('timedelta64[Y]').astype(int)\n",
        "\n",
        "labels = []\n",
        "for age in ages:\n",
        "    if age == 18:\n",
        "        labels.append(\"First\")\n",
        "    elif age == 19:\n",
        "        labels.append(\"Second\")\n",
        "    elif age == 20:\n",
        "        labels.append(\"Third\")\n",
        "    elif age == 21:\n",
        "        labels.append(\"Fourth\")\n",
        "    else:\n",
        "        labels.append(\"No Label\")\n",
        "\n",
        "for dob, age, label in zip(dob_array, ages, labels):\n",
        "    print(f\"DOB: {dob}, Age: {age}, Label: {label}\")"
      ],
      "metadata": {
        "colab": {
          "base_uri": "https://localhost:8080/"
        },
        "id": "E3RuXCNkXnU4",
        "outputId": "b496091a-58a9-48ca-9a10-fcce4dc50f85"
      },
      "execution_count": 10,
      "outputs": [
        {
          "output_type": "stream",
          "name": "stdout",
          "text": [
            "DOB: 2005-02-01, Age: 20, Label: Third\n",
            "DOB: 2004-06-15, Age: 20, Label: Third\n",
            "DOB: 2003-09-10, Age: 21, Label: Fourth\n",
            "DOB: 2002-12-05, Age: 22, Label: No Label\n"
          ]
        }
      ]
    },
    {
      "cell_type": "code",
      "source": [
        "# 4. Create a function to sort 2d Array by a column.\n",
        "\n",
        "import numpy as np\n",
        "\n",
        "arr = np.random.randint(1, 10, size=(3, 3))\n",
        "sorted_arr = np.sort(arr, axis=0)\n",
        "\n",
        "print(\"Original Array:\")\n",
        "print(arr)\n",
        "print(\"\\nSorted Array:\")\n",
        "print(sorted_arr)\n"
      ],
      "metadata": {
        "colab": {
          "base_uri": "https://localhost:8080/"
        },
        "id": "vA79V4J-Yqex",
        "outputId": "143a27d7-6e78-40aa-e52d-4a87484ea2e5"
      },
      "execution_count": 23,
      "outputs": [
        {
          "output_type": "stream",
          "name": "stdout",
          "text": [
            "Original Array:\n",
            "[[9 5 7]\n",
            " [3 7 3]\n",
            " [1 5 1]]\n",
            "\n",
            "Sorted Array:\n",
            "[[1 5 1]\n",
            " [3 5 3]\n",
            " [9 7 7]]\n"
          ]
        }
      ]
    }
  ]
}