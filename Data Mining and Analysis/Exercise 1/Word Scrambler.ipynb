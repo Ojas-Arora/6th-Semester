{
 "cells": [
  {
   "cell_type": "code",
   "execution_count": 8,
   "id": "c54adb15-a429-4e1b-aa03-4a002125926c",
   "metadata": {},
   "outputs": [
    {
     "name": "stdin",
     "output_type": "stream",
     "text": [
      "Enter a line of text:  \" This is a  new word scrambler program. \"\n"
     ]
    },
    {
     "name": "stdout",
     "output_type": "stream",
     "text": [
      "Scrambled text: \" Tihs is a new word srbmacler pgorarm. \"\n"
     ]
    }
   ],
   "source": [
    "import random\n",
    "import string\n",
    "\n",
    "def scramble_word(word):\n",
    "    if len(word) <= 3:\n",
    "        return word\n",
    "    first, last = word[0], word[-1]\n",
    "    middle = list(word[1:-1])\n",
    "    random.shuffle(middle)\n",
    "    scrambled = f\"{first}{''.join(middle)}{last}\"\n",
    "    return scrambled\n",
    "\n",
    "def process_text(text):\n",
    "    result = []\n",
    "    for word in text.split():\n",
    "        letters = ''.join([char for char in word if char.isalpha()])\n",
    "        punctuation_indices = [(i, char) for i, char in enumerate(word) if char in string.punctuation]  #enumerate gives both index and value\n",
    "        scrambled_letters = scramble_word(letters)\n",
    "        scrambled_word = list(scrambled_letters)\n",
    "        for idx, char in punctuation_indices:\n",
    "            scrambled_word.insert(idx, char)\n",
    "        result.append(''.join(scrambled_word))\n",
    "    return ' '.join(result)\n",
    "\n",
    "user_input = input(\"Enter a line of text: \")\n",
    "scrambled_output = process_text(user_input)\n",
    "print(\"Scrambled text:\", scrambled_output)\n"
   ]
  },
  {
   "cell_type": "code",
   "execution_count": null,
   "id": "9859ea05-3d41-415a-be72-8bad7776a15f",
   "metadata": {},
   "outputs": [],
   "source": []
  }
 ],
 "metadata": {
  "kernelspec": {
   "display_name": "Python 3 (ipykernel)",
   "language": "python",
   "name": "python3"
  },
  "language_info": {
   "codemirror_mode": {
    "name": "ipython",
    "version": 3
   },
   "file_extension": ".py",
   "mimetype": "text/x-python",
   "name": "python",
   "nbconvert_exporter": "python",
   "pygments_lexer": "ipython3",
   "version": "3.11.7"
  }
 },
 "nbformat": 4,
 "nbformat_minor": 5
}
