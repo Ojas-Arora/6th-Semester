{
  "nbformat": 4,
  "nbformat_minor": 0,
  "metadata": {
    "colab": {
      "provenance": []
    },
    "kernelspec": {
      "name": "python3",
      "display_name": "Python 3"
    },
    "language_info": {
      "name": "python"
    }
  },
  "cells": [
    {
      "cell_type": "code",
      "execution_count": 2,
      "metadata": {
        "colab": {
          "base_uri": "https://localhost:8080/"
        },
        "id": "4N6olKRysM0v",
        "outputId": "752eb930-4931-4ff1-e4d5-6deef51157e2"
      },
      "outputs": [
        {
          "output_type": "stream",
          "name": "stdout",
          "text": [
            "Enter the number of lists: 3\n",
            "Enter elements for list 1:\n",
            "Enter number of elements: 3\n",
            "10\n",
            "12\n",
            "11\n",
            "Enter elements for list 2:\n",
            "Enter number of elements: 3\n",
            "20\n",
            "15\n",
            "17\n",
            "Enter elements for list 3:\n",
            "Enter number of elements: 3\n",
            "5\n",
            "16\n",
            "21\n",
            "List with the highest sum is: [20, 15, 17]\n"
          ]
        }
      ],
      "source": [
        "# Python Program to find the list in a list of lists whose sum of elements is the highest.\n",
        "num_lists = int(input(\"Enter the number of lists: \"))\n",
        "\n",
        "lists = []\n",
        "for i in range(num_lists):\n",
        "    print(f\"Enter elements for list {i+1}:\")\n",
        "    elements = []\n",
        "    n = int(input(\"Enter number of elements: \"))\n",
        "    for _ in range(n):\n",
        "        elements.append(int(input()))\n",
        "    lists.append(elements)\n",
        "\n",
        "max_sum_list = lists[0]\n",
        "max_sum = sum(max_sum_list)\n",
        "\n",
        "for lst in lists[1:]:\n",
        "    if sum(lst) > max_sum:\n",
        "        max_sum_list = lst\n",
        "        max_sum = sum(lst)\n",
        "\n",
        "print(\"List with the highest sum is:\", max_sum_list)"
      ]
    },
    {
      "cell_type": "code",
      "source": [
        "# Python Program to check whether a list contains a sublist.\n",
        "def contains_sublist(main_list, sublist):\n",
        "    if not sublist:\n",
        "        return True\n",
        "    n, m = len(main_list), len(sublist)\n",
        "    for i in range(n - m + 1):\n",
        "        if main_list[i:i + m] == sublist:\n",
        "            return True\n",
        "    return False\n",
        "\n",
        "main_list = []\n",
        "n = int(input(\"Enter the number of elements in the main list: \"))\n",
        "print(\"Enter elements for the main list:\")\n",
        "for _ in range(n):\n",
        "    main_list.append(int(input()))\n",
        "\n",
        "sublist = []\n",
        "m = int(input(\"Enter the number of elements in the sublist: \"))\n",
        "print(\"Enter elements for the sublist:\")\n",
        "for _ in range(m):\n",
        "    sublist.append(int(input()))\n",
        "\n",
        "if contains_sublist(main_list, sublist):\n",
        "    print(f\"The list {main_list} contains the sublist {sublist}.\")\n",
        "else:\n",
        "    print(f\"The list {main_list} does not contain the sublist {sublist}.\")\n"
      ],
      "metadata": {
        "colab": {
          "base_uri": "https://localhost:8080/"
        },
        "id": "aiNgXpJVIH61",
        "outputId": "ba999d8b-a658-4384-ffa9-657b03cccdec"
      },
      "execution_count": 3,
      "outputs": [
        {
          "output_type": "stream",
          "name": "stdout",
          "text": [
            "Enter the number of elements in the main list: 5\n",
            "Enter elements for the main list:\n",
            "2\n",
            "4\n",
            "5\n",
            "7\n",
            "8\n",
            "Enter the number of elements in the sublist: 3\n",
            "Enter elements for the sublist:\n",
            "1\n",
            "2\n",
            "4\n",
            "The list [2, 4, 5, 7, 8] does not contain the sublist [1, 2, 4].\n"
          ]
        }
      ]
    }
  ]
}