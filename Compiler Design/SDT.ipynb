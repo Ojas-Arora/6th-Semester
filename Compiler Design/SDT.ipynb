{
  "nbformat": 4,
  "nbformat_minor": 0,
  "metadata": {
    "colab": {
      "provenance": []
    },
    "kernelspec": {
      "name": "python3",
      "display_name": "Python 3"
    },
    "language_info": {
      "name": "python"
    }
  },
  "cells": [
    {
      "cell_type": "code",
      "execution_count": null,
      "metadata": {
        "colab": {
          "base_uri": "https://localhost:8080/"
        },
        "id": "Je3mKG3kg9ru",
        "outputId": "0df5e8c3-9b09-4910-fbc8-8bf799b08fef"
      },
      "outputs": [
        {
          "output_type": "stream",
          "name": "stdout",
          "text": [
            "Enter arithmetic expression: 2+3*5\n",
            "Result: 17\n"
          ]
        }
      ],
      "source": [
        "def tokenize(expression):\n",
        "    tokens = []\n",
        "    i = 0\n",
        "    while i < len(expression):\n",
        "        if expression[i].isspace():\n",
        "            i += 1\n",
        "        elif expression[i] in '+*()':\n",
        "            tokens.append(expression[i])\n",
        "            i += 1\n",
        "        elif expression[i].isdigit():\n",
        "            num = ''\n",
        "            while i < len(expression) and expression[i].isdigit():\n",
        "                num += expression[i]\n",
        "                i += 1\n",
        "            tokens.append(num)\n",
        "        else:\n",
        "            raise ValueError(f\"Invalid character: {expression[i]}\")\n",
        "    tokens.append('$')\n",
        "    return tokens\n",
        "\n",
        "class Parser:\n",
        "    def __init__(self, tokens):\n",
        "        self.tokens = tokens\n",
        "        self.pos = 0\n",
        "\n",
        "    def current_token(self):\n",
        "        return self.tokens[self.pos]\n",
        "\n",
        "    def match(self, expected):\n",
        "        if self.current_token() == expected:\n",
        "            self.pos += 1\n",
        "        else:\n",
        "            raise SyntaxError(f\"Expected '{expected}' but found '{self.current_token()}'\")\n",
        "\n",
        "    def E(self):\n",
        "        val = self.T()\n",
        "        while self.current_token() == '+':\n",
        "            self.match('+')\n",
        "            val += self.T()\n",
        "        return val\n",
        "\n",
        "    def T(self):\n",
        "        val = self.F()\n",
        "        while self.current_token() == '*':\n",
        "            self.match('*')\n",
        "            val *= self.F()\n",
        "        return val\n",
        "\n",
        "    def F(self):\n",
        "        if self.current_token() == '(':\n",
        "            self.match('(')\n",
        "            val = self.E()\n",
        "            self.match(')')\n",
        "            return val\n",
        "        elif self.current_token().isdigit():\n",
        "            val = int(self.current_token())\n",
        "            self.match(self.current_token())\n",
        "            return val\n",
        "        else:\n",
        "            raise SyntaxError(f\"Unexpected token '{self.current_token()}'\")\n",
        "\n",
        "def evaluate_expression(expression):\n",
        "    tokens = tokenize(expression)\n",
        "    parser = Parser(tokens)\n",
        "    result = parser.E()\n",
        "    if parser.current_token() != '$':\n",
        "        raise SyntaxError(\"Unexpected input after complete parsing\")\n",
        "    return result\n",
        "\n",
        "if __name__ == \"__main__\":\n",
        "    expr = input(\"Enter arithmetic expression: \")\n",
        "    try:\n",
        "        value = evaluate_expression(expr)\n",
        "        print(f\"Result: {value}\")\n",
        "    except Exception as e:\n",
        "        print(f\"Error: {e}\")\n"
      ]
    }
  ]
}