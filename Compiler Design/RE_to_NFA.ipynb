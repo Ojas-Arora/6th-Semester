{
  "nbformat": 4,
  "nbformat_minor": 0,
  "metadata": {
    "colab": {
      "provenance": []
    },
    "kernelspec": {
      "name": "python3",
      "display_name": "Python 3"
    },
    "language_info": {
      "name": "python"
    }
  },
  "cells": [
    {
      "cell_type": "code",
      "execution_count": 8,
      "metadata": {
        "colab": {
          "base_uri": "https://localhost:8080/"
        },
        "id": "zAbhrmAP4B7n",
        "outputId": "3ce26da9-a13e-4562-e8bd-d6f8870c971f"
      },
      "outputs": [
        {
          "output_type": "stream",
          "name": "stdout",
          "text": [
            "Enter a regular expression: ab*\n",
            "\n",
            "--- NFA Transitions ---\n",
            "q0 -- a --> {'q2'}\n",
            "q2 -- b --> {'q3'}\n",
            "q3 -- ε --> {'q5'}\n",
            "q5 -- ε --> {'q1', 'q3'}\n",
            "\n",
            "Start State: q0\n",
            "Final State: q1\n"
          ]
        }
      ],
      "source": [
        "import itertools\n",
        "\n",
        "class NFA:\n",
        "    def __init__(self):\n",
        "        self.states = set()\n",
        "        self.alphabet = set()\n",
        "        self.transitions = {}\n",
        "        self.start_state = None\n",
        "        self.final_state = None\n",
        "\n",
        "    def add_transition(self, state_from, symbol, state_to):\n",
        "        if state_from not in self.transitions:\n",
        "            self.transitions[state_from] = {}\n",
        "        if symbol not in self.transitions[state_from]:\n",
        "            self.transitions[state_from][symbol] = set()\n",
        "        self.transitions[state_from][symbol].add(state_to)\n",
        "\n",
        "    def display_nfa(self):\n",
        "        print(\"\\n--- NFA Transitions ---\")\n",
        "        for state, paths in self.transitions.items():\n",
        "            for symbol, next_states in paths.items():\n",
        "                symbol_display = 'ε' if symbol == '' else symbol\n",
        "                print(f\"{state} -- {symbol_display} --> {next_states}\")\n",
        "        print(f\"\\nStart State: {self.start_state}\")\n",
        "        print(f\"Final State: {self.final_state}\")\n",
        "\n",
        "def regex_to_nfa(regex):\n",
        "    nfa = NFA()\n",
        "    state_counter = itertools.count(0)\n",
        "\n",
        "    start_state = f\"q{next(state_counter)}\"\n",
        "    end_state = f\"q{next(state_counter)}\"\n",
        "\n",
        "    nfa.start_state = start_state\n",
        "    nfa.final_state = end_state\n",
        "\n",
        "    previous_state = start_state\n",
        "\n",
        "    for symbol in regex:\n",
        "        new_state = f\"q{next(state_counter)}\"\n",
        "        if symbol in {'a', 'b'}:\n",
        "            nfa.add_transition(previous_state, symbol, new_state)\n",
        "            previous_state = new_state\n",
        "        elif symbol == '|':\n",
        "            alt_state1 = f\"q{next(state_counter)}\"\n",
        "            alt_state2 = f\"q{next(state_counter)}\"\n",
        "            nfa.add_transition(start_state, '', alt_state1)\n",
        "            nfa.add_transition(start_state, '', alt_state2)\n",
        "            previous_state = new_state\n",
        "        elif symbol == '*':\n",
        "            loop_state = f\"q{next(state_counter)}\"\n",
        "            nfa.add_transition(previous_state, '', loop_state)\n",
        "            nfa.add_transition(loop_state, '', previous_state)\n",
        "            previous_state = loop_state\n",
        "\n",
        "    nfa.add_transition(previous_state, '', end_state)\n",
        "    nfa.states.update([f\"q{i}\" for i in range(next(state_counter))])\n",
        "    nfa.display_nfa()\n",
        "    return nfa\n",
        "\n",
        "regex_input = input(\"Enter a regular expression: \")\n",
        "nfa = regex_to_nfa(regex_input)"
      ]
    }
  ]
}